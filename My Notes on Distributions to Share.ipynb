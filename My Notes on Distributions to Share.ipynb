{
 "cells": [
  {
   "cell_type": "markdown",
   "metadata": {},
   "source": [
    "# Notes on Distributions"
   ]
  },
  {
   "cell_type": "markdown",
   "metadata": {},
   "source": [
    "## Distributions (sect 19)\n",
    "- **Can be discrete or Continuous Probability Functions**\n",
    "<img src=\"https://www.dropbox.com/s/7qooiy76s3jvcr1/pmf_pdf.png?raw=1\" width=400>\n",
    "<img src=\"https://www.dropbox.com/s/ovrzewnefk2qc97/exp-var.png?raw=1\" width=400>\n",
    "\n",
    "- **Common Distributions:**\n",
    "<img src=\"https://www.dropbox.com/s/lu8iffegqjnp4kq/dists.png?raw=1\" width=600>"
   ]
  },
  {
   "cell_type": "markdown",
   "metadata": {},
   "source": [
    "### Discrete Distributions\n",
    "#### Bernoulli Distribution / Binomial Distribution\n",
    "- Probability of $x$ successes in $n$ trials for Bernoulli/binomial variable (binary outcome)\n",
    "    - Described by only one parameter $p$\n",
    "- For binomial *trial*: $Y = Bernoulli(p)$ and $p=P(Y=1)=0.8$\n",
    "- For binomial *distribution*, events are independent. \n",
    "$$ P(Y=k)= \\binom{n}{k} p^k(1-p)^{(n-k)}$$ \n",
    "\n",
    "#### Geometric Distribution\n",
    "- Geometric = Repeated trials, but examines the probability that the first success will occur on trial n.\n",
    "\n",
    "#### Poisson\n",
    "- Represents the probability of $n$ events in a given time period when the rate of occurrence is constant\n",
    "\n",
    "#### Uniform\n",
    "- All outcomes are equally likely. \n",
    "- BOTH continuous AND discrete\n",
    "\n",
    "### Continuous Distributions\n",
    "#### Normal / Gaussian Distribution\n",
    "- Bell shape curve very common in natural data\n",
    "- Symmetrical, mean = median = mode \n",
    "- AUC == 1\n",
    "\n",
    "###### Normal Density Function\n",
    "- Density of normal distribution for given value of x\n",
    "- Can describe from its center and spread\n",
    "$$y = \\frac{1}{\\sigma \\sqrt{2}{2\\pi}}e^{\\frac{{(x -\\mu)}{^2}}{2 \\sigma ^{2}}}$$\n",
    "- $\\mu$ = mean\n",
    "- $\\sigma$ = standard deviation\n",
    "- $\\pi \\approx 3.14159$\n",
    "- $e \\approx 2.71828$\n",
    "\n",
    "#### Standardized Normal Distribution\n",
    "$$z = \\frac{x-\\mu}{\\sigma}$$"
   ]
  },
  {
   "cell_type": "markdown",
   "metadata": {},
   "source": [
    "###  Probability Mass Function (PMF) / probability distribution\n",
    "- Converts frequency of events to probability of a particular outcome of a **discrete** function, by normalizing so that the sum of all outcomes == 1.\n",
    "- Can test what is the probability that $x$ takes on a particular value $k$\n",
    "    - $P(X=k)$\n",
    "\n",
    "-   Gives probability for discrete random variables, if we have x outcomes, we want to know what is the probability of getting k (our value of interest) from x\n",
    "- Maps a value from its probability \n",
    "\n",
    "#### How to convert frequency to probability  for PMF\n",
    "```python\n",
    "import numpy as np  \n",
    "import collections  \n",
    "x = [1,1,1,1,2,2,2,2,3,3,4,5,5]\n",
    "counter = collections.Counter(x)  \n",
    "\\# Convert frequency to probability - divide each frequency value by total number of values\n",
    "pmf = []\n",
    "for key,val in counter.items():\n",
    "    pmf.append(round(val/len(x), 2))\n",
    "    print(counter.keys(), pmf)  \n",
    "  \n",
    "# Proof that is normalized to overall prob of 1 (needed for PMF)  \n",
    "np.array(pmf).sum()\n",
    "# Visualizing PMF – similar to histogram, but normalized to P=1*  \n",
    "import matplotlib.pyplot as plt  \n",
    "plt.style.use(‘ggplot’)  \n",
    "plt.stem(counter.keys(), pmf)  \n",
    "```\n",
    "<img src=\"https://www.dropbox.com/s/ghbwhp17z4ulyvc/e51d10e06e9b70069c792d9fa8172e5e.png?raw=1\" width=300>\n",
    "\n",
    "### CUMULATIVE DENSITY FUNCTION\n",
    "- With large sample space $S$ (# of possible outcomes) for values of $X$, too hard to visualize with pmf\n",
    "- maps a value from its percentile rank for **discrete** functions\n",
    "- calculated as the $$F(x) = P(X \\leq x)$$\n",
    "\n",
    "### PROBABILITY DENSITY FUNCTION\n",
    "- Essentially equivalent to the pmf, but for **continuous** functions\n",
    "- Line represents regions where observations most likely to occur (the density)\n",
    "<img src=\"https://www.dropbox.com/s/y8i8azec6ncpuum/pdf1.png?raw=1\" width=300>\n",
    "\n",
    "#### Calculate area under the curve around the value of interest\n",
    "$$F(X) = P(a \\leq x \\leq b) = \\int_a^b f(x) dx \\geq 0$$\n",
    "<img src=\"https://www.dropbox.com/s/5q9gnarklq769zt/pdf2.jpg?raw=1\">"
   ]
  },
  {
   "cell_type": "markdown",
   "metadata": {},
   "source": [
    "\n",
    "\n",
    "### Kernel Density Estimation \n",
    "- Non-parametric estimation to plot a curve at every individual data point (kernels)\n",
    "- Added together to plot smooth density estimation ( most common kernel is Gaussian)\n",
    "- Below example histogram and kde are from the same data\n",
    "<img src=\"https://www.dropbox.com/s/vrgcphxmry5148l/Comparison_of_1D_histogram_and_KDE.png?raw=1\" width=400>"
   ]
  },
  {
   "cell_type": "markdown",
   "metadata": {},
   "source": [
    "### Skewness\n",
    "- Symmetrical distribution: skewness = 0\n",
    "- **Fisher-Pearson Coefficient of skewess:**\n",
    "$$∑ N_{i=1} \\frac{{(Yi−\\bar{Y})}^3}{N} / {\\sigma^3}$$\n",
    "- Rules of thumb\n",
    "    - Symmetrical-ish: -0.5 to +.05\n",
    "    - Moderate Skew:\n",
    "        - Negative skew: -1 to -0.5\n",
    "        - Positive skew: +0.5 to +1\n",
    "    - Highly skewed:\n",
    "        - Less than -1\n",
    "        - Greater than +1\n",
    "    \n",
    "\n",
    "<img src=\"https://www.dropbox.com/s/mqr3kux0caa64nk/skew1.jpeg?raw=1\">\n",
    "\n",
    "\n",
    "### Kurtosis \n",
    "- Lengths of tails of distribution to describe extreme values (outliers)\n",
    "- Univariate kurtosis:\n",
    "$$\\Sigma N_{i=1} \\frac{{(Yi−\\bar{Y})}^4}{N} / {\\sigma^4}$$\n",
    "\n",
    "- **Mesokurtic:**\n",
    "    - Kurtosis similar to standard normal distribution\n",
    "- **Leptokurtic (Kurtosis >3)**\n",
    "    - Tails are fatter, peak is higher sharper\n",
    "    - Data are heavy-tailed or many outliers\n",
    "- **Platykurtic: (Kurtosis < 3)**\n",
    "    - Shorter peak, tails are thinner than the normal distribution. \n",
    "    - Data are light-tailed or lack of outliers vs normal dist\n",
    "<img src=\"https://www.dropbox.com/s/5ynsy7vkb196ilb/kurt2.jpg?raw=1\" width=300>\n"
   ]
  },
  {
   "cell_type": "markdown",
   "metadata": {},
   "source": [
    "## Statistical Distributions Recap (Sect 23)"
   ]
  },
  {
   "cell_type": "markdown",
   "metadata": {},
   "source": [
    "### Uniform distribution\n",
    "- Equal probability\n",
    "- Probability function:<br>\n",
    "$$\\rho_{uniform}(x) = \\dfrac{1}{b-a} \\quad \\mbox{ for } a \\leq x < b $$\n",
    "- Mean of uniform distribution:<br>\n",
    " $\\dfrac{b+a}{2}$\n",
    "- Variance of uniform distribution:<br>\n",
    "$V = \\dfrac{(b-a)^2}{12}$\n",
    "- Standard Deviation:<br>\n",
    "$\\sigma = \\dfrac{b - a}{2 \\sqrt{3}}$.\n",
    "#### Generate uniform in python"
   ]
  },
  {
   "cell_type": "code",
   "execution_count": 1,
   "metadata": {},
   "outputs": [
    {
     "data": {
      "text/plain": [
       "<Figure size 400x400 with 1 Axes>"
      ]
     },
     "metadata": {},
     "output_type": "display_data"
    }
   ],
   "source": [
    "# Generate uniform data\n",
    "import numpy as np\n",
    "import matplotlib.pyplot as plt\n",
    "plt.style.use('seaborn')\n",
    "\n",
    "values = np.random.uniform(-10.0, 10.0, 100000)\n",
    "\n",
    "fig = plt.figure(figsize=(4,4))\n",
    "plt.hist(values, 50) \n",
    "plt.show()"
   ]
  },
  {
   "cell_type": "markdown",
   "metadata": {},
   "source": [
    "### Binomial Distribution\n",
    "- Discrete version of normal distribution describing the probability distribution of a given # of successes \n",
    "\n",
    "$$\\mu = n * p$$\n",
    "\n",
    "where $n$ is the number of trials, and $p$ is the probability of success for a given trial. \n",
    "\n",
    "- The **_Standard Deviation for a Binomial Distribution_** is:\n",
    "\n",
    "$$\\sigma = \\sqrt{n * p * (1 - p)}$$\n",
    "\n",
    "- The formula for the **_Point Probability of the Binomial Distribution_** is:\n",
    "\n",
    "$$ \\Big(\\frac{n!} {x! (n-x)!}\\Big) p^x (1 - p)^{n - x}$$\n",
    "\n",
    " where $n$ is the number of trials, $p$ is the probability of success for a given trial, and $x$ is the number of successes.\n",
    "\n",
    "- The formula for the **_Cumulative Probability of the Binomial Distribution_** is:\n",
    "\n",
    "$$\\sum_{i=0}^{x}  \\Big(\\frac{n!} {x! (n-x)!}\\Big) p^x (1 - p)^{n - x}$$\n",
    "\n",
    "where $n$ is the number of trials, $p$ is the probability of success for a given trial, and $x$ is the number of successes."
   ]
  },
  {
   "cell_type": "markdown",
   "metadata": {},
   "source": [
    "### Normal Distributions\n",
    "- **_Probability Density of the Normal Distribution_** is:\n",
    "$$f(x\\ |\\ \\mu,\\ \\sigma^2) = \\frac{1}{\\sqrt{2 \\pi \\sigma^2}}e$$\n",
    "\n",
    "- Where:\n",
    "$x$ is the **_point_** we want to calculate the probability for\n",
    "$\\mu$ is the **_mean_** of the sample\n",
    "$\\pi$ is a mathematical constant, the irrational number $3.14159$\n",
    "$\\sigma^2$ is the **_variance_** (since $\\sigma$ is the **_standard deviation_**)\n",
    "$e$ is **_Euler's Constant_**, also known as the **_Base of the Natural Logarithm_**, $2.71828$"
   ]
  },
  {
   "cell_type": "markdown",
   "metadata": {},
   "source": [
    "### Gaussian Distributions\n",
    "- For Gaussian distribution, the probability function is calculated as:\n",
    "$$\n",
    "\\rho_{Gaussian}(v) = \\dfrac{1}{\\sqrt{2 \\pi \\sigma}} e^{-\\frac{v^{2}}{2\\sigma^2}}\n",
    "$$\n",
    "- Mean of Gaussian distribution is $\\mu$,\n",
    "- Standard deviation is $\\sigma$.\n",
    "- Visualize Gaussian distributions with the probability density function ( scipy.stats.norm)"
   ]
  },
  {
   "cell_type": "code",
   "execution_count": 2,
   "metadata": {},
   "outputs": [
    {
     "data": {
      "image/png": "[encoded data removed]",
      "text/plain": [
       "<Figure size 720x216 with 3 Axes>"
      ]
     },
     "metadata": {
      "needs_background": "light"
     },
     "output_type": "display_data"
    }
   ],
   "source": [
    "# Generating and Plotting Normal Distributions \n",
    "# Generate norm distribution\n",
    "from scipy.stats import norm\n",
    "import matplotlib.pyplot as plt\n",
    "import seaborn as sns\n",
    "import numpy as np\n",
    "\n",
    "# Generating and Plotting Normal Distributions \n",
    "fig, ax = plt.subplots(1,4, figsize=(10,3))\n",
    "\n",
    "# Use scipy.stats.norm.pdf \n",
    "# to generate data for np array of x\n",
    "n=0\n",
    "ax[n].set_title(f'Continuous Norm From\\n scip.stats.norm')\n",
    "x = np.arange(-3, 3, 0.001) # Declare the range of x-values with np.arrange\n",
    "# Use scipy.stats.norm to generate continuous kerndel density estimation for those x-values\n",
    "ax[n].plot(x, norm.pdf(x), color='red')\n",
    "\n",
    "# Generate nomral distribution in numpy\n",
    "# using mean and std\n",
    "n+=2\n",
    "ax[n].set_title(f'Discrete Norm Data\\n from np.random.norm')\n",
    "values = np.random.normal(5.0, 2.0, 100000) #mean, std, size\n",
    "ax[n].hist(values, 50)\n",
    "\n",
    "# Showing the KDE for The Discrete norm distribution from numpy\n",
    "n+=1\n",
    "ax[n].set_title('Same Discrete Norm Data -> Kde')\n",
    "sns.distplot(values, ax=ax[n])\n",
    "\n",
    "# Finalize figure\n",
    "plt.delaxes(ax[1])\n",
    "fig.tight_layout()\n",
    "plt.show()\n"
   ]
  },
  {
   "cell_type": "markdown",
   "metadata": {},
   "source": [
    "### Exponential Distribution\n",
    "- **For exponential distribution, the probability function is:**\n",
    "$$\n",
    "\\rho_{exponential}(t) = \\dfrac{ e^{-\\frac{t}{\\tau}} }{ \\tau } \\mbox{ for } t \\geq 0\n",
    "$$\n",
    "- Mean is $\\tau$\n",
    "- Std is $\\sigma = \\tau$\n",
    "- From scipy.stats import expon\n",
    "    - expon.pdf to generate pdf <br>\n",
    "  \n",
    "#### Probability Density Function:\n",
    "- Probability that our random variable $X$ will be a specific value $x$\n",
    "$$PDF(x)=\\lambda e^{-\\lambda x}$$\n",
    "\n",
    "- $\\lambda$  = **decay parameter**(a.k.a. $m$)\n",
    "    \n",
    "$$\\lambda = \\frac{1}{\\mu}$$\n",
    "\n",
    "#### Cumulative Density Function:\n",
    "\n",
    "$$CDF(x) = 1 - e^{-\\lambda x}$$\n",
    "- distribution is unique:\n",
    "    - $\\sigma = \\mu$\n",
    "  \n",
    "#### Generate expoenential distribution"
   ]
  },
  {
   "cell_type": "code",
   "execution_count": 3,
   "metadata": {},
   "outputs": [
    {
     "data": {
      "text/plain": [
       "[<matplotlib.lines.Line2D at 0x28521c0f320>]"
      ]
     },
     "execution_count": 3,
     "metadata": {},
     "output_type": "execute_result"
    },
    {
     "data": {
      "image/png": "[encoded data removed]",
      "text/plain": [
       "<Figure size 432x288 with 1 Axes>"
      ]
     },
     "metadata": {
      "needs_background": "light"
     },
     "output_type": "display_data"
    }
   ],
   "source": [
    "#### Generate Expon Distibution\n",
    "from scipy.stats import expon\n",
    "import matplotlib.pyplot as plt\n",
    "x = np.arange(0, 10, 0.001)\n",
    "plt.plot(x, expon.pdf(x))"
   ]
  },
  {
   "cell_type": "markdown",
   "metadata": {},
   "source": [
    "    \n",
    "### Poisson Distribution\n",
    "- Allows us to calculate the prob of a given event by examining the mean number of events that happen in a given time period. \n",
    "    - Described by parameters:\n",
    "        - $\\mu$:average # of successes over given time period \n",
    "        - $x$:our random variable - the number of successes we want to find the pmf for. \n",
    "- Probability mass function gives way to predict the odds of getting another value instead, on a given future day/interval\n",
    "$$P(X) = \\frac{\\lambda^x e^{-\\lambda}}{X!}$$\n",
    "- $\\lambda$ is average # of successful events\n",
    "- $X\\$ is  number of successes\n",
    "- scipy.stats.poisson\n",
    "#### Generate Poisson Disbtribution"
   ]
  },
  {
   "cell_type": "code",
   "execution_count": 4,
   "metadata": {},
   "outputs": [
    {
     "data": {
      "text/plain": [
       "<matplotlib.lines.Line2D at 0x28521c471d0>"
      ]
     },
     "execution_count": 4,
     "metadata": {},
     "output_type": "execute_result"
    },
    {
     "data": {
      "image/png": "[encoded data removed]",
      "text/plain": [
       "<Figure size 432x288 with 1 Axes>"
      ]
     },
     "metadata": {
      "needs_background": "light"
     },
     "output_type": "display_data"
    }
   ],
   "source": [
    "# Generate poisson distribution\n",
    "from scipy.stats import poisson\n",
    "import matplotlib.pyplot as plt\n",
    "%matplotlib inline\n",
    "mu = 500\n",
    "x = np.arange(400, 600, 0.5)\n",
    "plt.plot(x, poisson.pmf(x, mu))\n",
    "plt.axvline(550, color= 'g')"
   ]
  },
  {
   "cell_type": "markdown",
   "metadata": {},
   "source": [
    "### Distribution Cheat Sheet\n",
    "\n",
    "<img src=\"https://www.dropbox.com/s/k6qgj702dwn7vfr/distribution%20cheatsheet.jpg?raw=1\" width=800>"
   ]
  },
  {
   "cell_type": "markdown",
   "metadata": {},
   "source": [
    "### Negative binomial distribution\n",
    "#### Negative binomial trials \n",
    "- Describes number of failures\n",
    "\n",
    "#### Negative binomial distribution describes the ways negative binomial trials \n",
    "- Describes the of successes $k$ until observing a pre-determined # of failures $r$ for $x$ trials, where the probability for success for each independent trial is $p$.\n",
    "- Calculating **Negative Binomial Probability** by multiplying binomial probability by the probabiltiy of failure on trial x:\n",
    "    - $P^r∗(1−P)^{x−r}$\n",
    "$$b(x, r, P) =\\  _{x-1}C_{\\ r-1} * P^{\\ r} * (1-P)^{\\ x-r}  $$\n",
    "\n",
    "where C is the binomial distribution equation $$_{x-1}C_{\\ r-1}$ = \\frac{(x-1)!}{((n-1)-(r-1))!(r-1)!}$$.  \n",
    "\n",
    "#### Characteristics of Negative Binomial Distribution:\n",
    "\n",
    "- **_mean_**:\n",
    "\n",
    "$$\\mu = \\frac{r}{p}$$\n",
    "\n",
    "- **_variance_**:\n",
    "\n",
    "$$\\sigma^2 = \\frac{r\\ (1-p)}{p^{\\ 2}}  $$"
   ]
  },
  {
   "cell_type": "markdown",
   "metadata": {},
   "source": [
    "### Geometric Distribution\n",
    "- Geometric = Repeated trials, but examines the probability that the first success will occur on trial n.\n",
    "- Same constraints as negative binomal dist:\n",
    "    -Multiple trials \n",
    "    - Outcome is binary\n",
    "    - Prob success same across trials\n",
    "    - Trials are independent \n",
    "- **Geometric Distribution Equation:**\n",
    "$$P(X=x) = q^{(x\\ -\\ 1)}p$$\n",
    "\n",
    "Where $$q = 1 - p$$\n",
    "\n",
    "- $X$ denotes the _Discrete Random Variable_,\n",
    "- $x$ the trial that we want to calculate the *Geometric Probability*\n",
    "- $p$ the probability of failure for a given trial\n",
    "- $q$ (1-p) is probability for success for given trial \n",
    "\n",
    "- **If p == q (equal prob), equation simplifies:\n",
    "$$P(X=x) = q^x$$"
   ]
  },
  {
   "cell_type": "markdown",
   "metadata": {},
   "source": [
    "### Distribution descriptions  in words\n",
    "**_Binomial Distribution_**: \"I flip a fair coin 5 times. What are the chances that I get heads 0 times? 1 time? 2 times? Etc...\"\n",
    "\n",
    "**_Negative Binomial Distribution_**: I flip a fair coin 5 times. What are the chances it takes me two flips to get heads twice? How about 3 flips to get heads twice? 4 Flips? Etc...\n",
    "\n",
    "The **_Exponential Distribution_** describes the probability distribution of the amount of time it may take before an event occurs.  In a way, it solves the inverse of the problem solves by the Poisson Distribution.\n",
    "\n",
    "The **_Poisson Distribution_** lets us ask how likely any given number of events are over a set interval of time.  \n",
    "\n",
    "The **_Exponential Distribution_** lets us ask how likely the _length of an interval of time_ is before an event occurs exactly once. \n",
    "\n",
    "Another way to think of the Exponential Distribution is as the continuous analogue of the **_Geometric Distribution_**. "
   ]
  },
  {
   "cell_type": "markdown",
   "metadata": {},
   "source": []
  },
  {
   "cell_type": "markdown",
   "metadata": {},
   "source": [
    "# Kolmogorov-Smirnov Test\n",
    "\n",
    "#### Noramlity assumption is important for many models-\n",
    "- Examine with plots:\n",
    "    - qqplots\n",
    "    - boxplot\n",
    "- Test with stats:\n",
    "    - The Shapiro-Wilk test;\n",
    "    - The Anderson-Darling test, and;\n",
    "    - The Kolmogorov-Smirnov test.\n",
    "    \n",
    "#### KS test used observed/empirical CDFs for comparisons:**\n",
    "- Uses CDFs to compare data to either:\n",
    "    - an ideal normal distribtuion for a one-sample KS test\n",
    "    - or another population for a two-sample KS test. \n",
    "- Similar to t-test but is sensitive to changes in the mean, variance, and shape of the data. \n",
    "    \n",
    "<img src=\"https://www.dropbox.com/s/jle5rdzan84qmfj/d.gif?raw=1\" width=400>\n",
    "\n",
    "- **Empirical distribution function:**   \n",
    "    - If X is a random variable with CDF $F(x)=P(X≤x)$ <br>\n",
    "      and  $x1,…,xn$ are i.i.d. random variables sampled from X empirical distribution function.\n",
    "\n",
    "$$\\hat{F}(x) = \\frac{\\text{# of elements in sample} \\leq x}{n} = \\frac{1}{n} \\Sigma_{i=1}^n I(x_i \\leq x) \\tag{1}$$\n",
    "\n",
    "\n",
    "#### One-Sample KS Test\n",
    "- Must provide completely specified theoretical distribution fucntion \n",
    "- Sensitive to mean, variance, shape. \n",
    "- Used to test normality assumption\n",
    "$$\n",
    "d\t   =    \tmax(abs[F_0(X)-F_r(X)])\n",
    "$$\n",
    "where\n",
    "- **d** is the maximum deviation Kolmogorov statistic \n",
    "- **F<sub>0</sub>(X)** = (No.of observations ≤ X)/(Total no.of observations) i.e. the non parametric empirical distribution\n",
    "- **F<sub>r</sub>(X)** = The theoretical frequency distribution of X - parametric (e.g. based on mean value) \n",
    "\n",
    "#### Two-Sample KS test\n",
    "- checks if two **independent** samples have been drawn from the same population, or, equivalently, from two identical populations (X = Y).\n",
    "- compares two **sample** distributions (instead of theoretical)\n",
    "\n",
    "$$d\t   =    \tmax[abs[{F_{n1}(X)-F_{n2}(X)}]]$$\n",
    "- $n_1$ = Observations from first sample.\n",
    "\n",
    "- $n_2$ = Observations from second sampl\n",
    "\n",
    "\n",
    "##### Interpreting d statistics\n",
    "- When the CDF shows large maximum deviation d reflects difference between the two sample distributions.\n",
    "    - Critical value of d for samples where n1=n2 and is ≤ 40, the K-S table for two sample case is used. \n",
    "    - When n1 and/or n2 > 40 then the K-S table for large samples of two sample test should be used.\n",
    "- The null hypothesis is accepted if the calculated value is less than the table value and vice-versa."
   ]
  }
 ],
 "metadata": {
  "celltoolbar": "Raw Cell Format",
  "kernelspec": {
   "display_name": "learn-env",
   "language": "python",
   "name": "learn-env"
  },
  "language_info": {
   "codemirror_mode": {
    "name": "ipython",
    "version": 3
   },
   "file_extension": ".py",
   "mimetype": "text/x-python",
   "name": "python",
   "nbconvert_exporter": "python",
   "pygments_lexer": "ipython3",
   "version": "3.6.8"
  },
  "toc": {
   "base_numbering": 1,
   "nav_menu": {
    "height": "511.991px",
    "width": "347.998px"
   },
   "number_sections": false,
   "sideBar": true,
   "skip_h1_title": false,
   "title_cell": "My Flatiron Data Science Bootcamp Cheatsheet & Example Code",
   "title_sidebar": "Contents",
   "toc_cell": false,
   "toc_position": {
    "height": "calc(100% - 180px)",
    "left": "10px",
    "top": "150px",
    "width": "427.903px"
   },
   "toc_section_display": true,
   "toc_window_display": true
  },
  "varInspector": {
   "cols": {
    "lenName": 16,
    "lenType": 16,
    "lenVar": 40
   },
   "kernels_config": {
    "python": {
     "delete_cmd_postfix": "",
     "delete_cmd_prefix": "del ",
     "library": "var_list.py",
     "varRefreshCmd": "print(var_dic_list())"
    },
    "r": {
     "delete_cmd_postfix": ") ",
     "delete_cmd_prefix": "rm(",
     "library": "var_list.r",
     "varRefreshCmd": "cat(var_dic_list()) "
    }
   },
   "position": {
    "height": "187.431px",
    "left": "1087.44px",
    "right": "20px",
    "top": "58px",
    "width": "426.417px"
   },
   "types_to_exclude": [
    "module",
    "function",
    "builtin_function_or_method",
    "instance",
    "_Feature"
   ],
   "window_display": false
  }
 },
 "nbformat": 4,
 "nbformat_minor": 2
}
