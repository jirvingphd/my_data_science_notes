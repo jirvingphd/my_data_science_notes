{
  "nbformat": 4,
  "nbformat_minor": 0,
  "metadata": {
    "colab": {
      "name": "Flatiron Bootcamp Notes - Mod 3 + More Time Series_share.ipynb",
      "version": "0.3.2",
      "provenance": [],
      "collapsed_sections": [
        "ILiJbEhIhzO-",
        "XKTBlckyh8Vl",
        "dDY-Lj9zh_mZ",
        "YywI36W1IRs7",
        "kSyLc65KUlYa"
      ],
      "toc_visible": true,
      "include_colab_link": true
    },
    "kernelspec": {
      "name": "python3",
      "display_name": "Python 3"
    }
  },
  "cells": [
    {
      "cell_type": "markdown",
      "metadata": {
        "id": "view-in-github",
        "colab_type": "text"
      },
      "source": [
        "<a href=\"https://colab.research.google.com/github/jirvingphd/my_data_science_notes/blob/master/Flatiron_Bootcamp_Notes_Mod_3_%2B_More_Time_Series_share.ipynb\" target=\"_parent\"><img src=\"https://colab.research.google.com/assets/colab-badge.svg\" alt=\"Open In Colab\"/></a>"
      ]
    },
    {
      "cell_type": "markdown",
      "metadata": {
        "id": "ca6efxfBAFa2",
        "colab_type": "text"
      },
      "source": [
        "<img src=\"https://www.dropbox.com/s/fchpltm5rnwd5ce/Flatiron%20Logo%202Wordmark.png?raw=1\" width=100 >"
      ]
    },
    {
      "cell_type": "markdown",
      "metadata": {
        "id": "Hb2EiLRm_Ykt",
        "colab_type": "text"
      },
      "source": [
        "# My Flatiron Bootcamp Notes  - Mod 3\n",
        "- James M. Irving, Ph.D.\n",
        "- james.irving.phd@gmail.com\n",
        "- Repo:  https://github.com/jirvingphd/my_data_science_notes\n",
        "\n",
        "- Previous Notebook\n",
        "    - **[My Flatiron Bootcamp Notes - Mods1&2](https://drive.google.com/open?id=1iREMcqkWK_MrwIEEMg8fwb32xk-d319o)**\n",
        "\n",
        "- Next Notebook:\n",
        " - **[Flatiron Bootcamp Notes - Neural Networks - Mod 4.ipynb ](https://drive.google.com/open?id=1Xra7MsXrtXxoNCW8KokIn9Gxu0Mqi_nO)**"
      ]
    },
    {
      "cell_type": "markdown",
      "metadata": {
        "id": "Hku2VYkFhue4",
        "colab_type": "text"
      },
      "source": [
        "# QUICK REFERENCE"
      ]
    },
    {
      "cell_type": "markdown",
      "metadata": {
        "id": "ILiJbEhIhzO-",
        "colab_type": "text"
      },
      "source": [
        "### Additional Pandas Time Series Tips / Guide\n"
      ]
    },
    {
      "cell_type": "markdown",
      "metadata": {
        "colab_type": "text",
        "id": "7DnPan99iNQG"
      },
      "source": [
        "\n",
        "- You can round timestamps to a specific frequency by using `ts.round('D')` where D can be any of the time frequency codes\n",
        "\n",
        "- **Date time data types**\n",
        "\n",
        "|Concept\t|Scalar Class\t|Array Class\t|pandas Data Type|\tPrimary Creation Method|\n",
        "|------|------|------|----|---|\n",
        "|Date times|\tTimestamp\t|DatetimeIndex\t|datetime64[ns] or datetime64[ns, tz]| to_datetime or date_range|\n",
        "|Time deltas\t|Timedelta|\tTimedeltaIndex|\ttimedelta64[ns]|\tto_timedelta or timedelta_range|\n",
        "|Time spans|\tPeriod|\tPeriodIndex|\tperiod[freq]|\tPeriod or period_range|\n",
        "|Date offsets|\tDateOffset\t|None|\tNone|\tDateOffset|\n",
        "\n",
        "\n",
        "- **Pandas Frequency Abbreviations**\n",
        "\n",
        "|Alias|\tDescription|\n",
        "|----|-----|\n",
        "|B|\tbusiness day frequency|\n",
        "|C|\tcustom business day frequency|\n",
        "|D|\tcalendar day frequency|\n",
        "|W|\tweekly frequency|\n",
        "|M|\tmonth end frequency|\n",
        "|SM|\tsemi-month end frequency (15th and end of month)|\n",
        "|BM|\tbusiness month end frequency|\n",
        "|CBM|\tcustom business month end frequency|\n",
        "|MS|\tmonth start frequency|\n",
        "|SMS|\tsemi-month start frequency (1st and 15th)|\n",
        "|BMS|\tbusiness month start frequency|\n",
        "|CBMS|\tcustom business month start frequency|\n",
        "|Q|\tquarter end frequency|\n",
        "|BQ|\tbusiness quarter end frequency|\n",
        "|QS|\tquarter start frequency|\n",
        "|BQS|\tbusiness quarter start frequency|\n",
        "|A|, Y\tyear end frequency|\n",
        "|BA|, BY\tbusiness year end frequency|\n",
        "|AS|, YS\tyear start frequency|\n",
        "|BAS|, BYS\tbusiness year start frequency|\n",
        "|BH|\tbusiness hour frequency|\n",
        "|H|\thourly frequency|\n",
        "|T|, min\tminutely frequency|\n",
        "|S|\tsecondly frequency|\n",
        "|L|, ms\tmilliseconds|\n",
        "|U|, us\tmicroseconds|\n",
        "|N|\tnanoseconds|\n",
        "\n",
        "- **Time/data properties of Timestamps**\n",
        "\n",
        "|Property|\tDescription|\n",
        "|---|---|\n",
        "|year|\tThe year of the datetime|\n",
        "|month|\tThe month of the datetime|\n",
        "|day|\tThe days of the datetime|\n",
        "|hour|\tThe hour of the datetime|\n",
        "|minute|\tThe minutes of the datetime|\n",
        "|second|\tThe seconds of the datetime|\n",
        "|microsecond|\tThe microseconds of the datetime|\n",
        "|nanosecond|\tThe nanoseconds of the datetime|\n",
        "|date|\tReturns datetime.date (does not contain timezone information)|\n",
        "|time|\tReturns datetime.time (does not contain timezone information)|\n",
        "|timetz|\tReturns datetime.time as local time with timezone information|\n",
        "|dayofyear|\tThe ordinal day of year|\n",
        "|weekofyear|\tThe week ordinal of the year|\n",
        "|week|\tThe week ordinal of the year|\n",
        "|dayofweek|\tThe number of the day of the week with Monday=0, Sunday=6|\n",
        "|weekday|\tThe number of the day of the week with Monday=0, Sunday=6|\n",
        "|weekday_name|\tThe name of the day in a week (ex: Friday)|\n",
        "|quarter|\tQuarter of the date: Jan-Mar = 1, Apr-Jun = 2, etc.|\n",
        "|days_in_month|\tThe number of days in the month of the datetime|\n",
        "|is_month_start|\tLogical indicating if first day of month (defined by frequency)|\n",
        "|is_month_end|\tLogical indicating if last day of month (defined by frequency)|\n",
        "|is_quarter_start|\tLogical indicating if first day of quarter (defined by frequency)|\n",
        "|is_quarter_end|\tLogical indicating if last day of quarter (defined by frequency)|\n",
        "|is_year_start|\tLogical indicating if first day of year (defined by frequency)|\n",
        "|is_year_end|\tLogical indicating if last day of year (defined by frequency)|\n",
        "|is_leap_year|\tLogical indicating if the date belongs to a leap year|\n",
        "\n"
      ]
    },
    {
      "cell_type": "markdown",
      "metadata": {
        "id": "XKTBlckyh8Vl",
        "colab_type": "text"
      },
      "source": [
        "### RANDOM NOTES ON NUMBER FORMATTING\n"
      ]
    },
    {
      "cell_type": "markdown",
      "metadata": {
        "colab_type": "text",
        "id": "sj-XzcywiSbu"
      },
      "source": [
        "- https://pbpython.com/styling-pandas.html\n",
        "- Reference table for formatting: https://mkaz.blog/code/python-string-format-cookbook/\n",
        "\n",
        "```python\n",
        "fmt_price = '${0:,.0f}'\n",
        "format_dict = {'Predictions': '{:0.2f}',  'Test_values': '{:0.2f}', \n",
        "'True Test Price':fmt_price,'True Predictions Price':fmt_price }\n",
        "df_show.style.format(format_dict).hide_index()\n",
        "```"
      ]
    },
    {
      "cell_type": "markdown",
      "metadata": {
        "id": "dDY-Lj9zh_mZ",
        "colab_type": "text"
      },
      "source": [
        "### How to turn a google drive share link into a raw-usable one"
      ]
    },
    {
      "cell_type": "code",
      "metadata": {
        "colab_type": "code",
        "outputId": "f6579066-77d6-4807-ef0c-ab53761d2555",
        "id": "Ldv-qEWtiSbv",
        "colab": {
          "base_uri": "https://localhost:8080/",
          "height": 34
        }
      },
      "source": [
        "import pandas as pd\n",
        "import numpy as np \n",
        "import matplotlib.pyplot as plt\n",
        "\n",
        "import warnings\n",
        "warnings.filterwarnings('ignore')\n",
        "\n",
        "def make_gdrive_file_url(share_url_from_gdrive):\n",
        "    \"\"\"accepts gdrive share url with format 'https://drive.google.com/open?id=`\n",
        "    and returns a pandas-usable link with format ''https://drive.google.com/uc?export=download&id='\"\"\"\n",
        "    import re\n",
        "    file_id = re.compile(r'id=(.*)')\n",
        "    fid = file_id.findall(share_url_from_gdrive)\n",
        "    prepend_url = 'https://drive.google.com/uc?export=download&id='\n",
        "    output_url = prepend_url + fid[0]\n",
        "    return output_url \n",
        "\n",
        "test_link = \"https://drive.google.com/open?id=1eHbOq-2TqGx4d2jZXrUdwNnJY_aM_7rj\" # airline passenger .csv\n",
        "file_link = make_gdrive_file_url(test_link)\n",
        "file_link"
      ],
      "execution_count": 0,
      "outputs": [
        {
          "output_type": "execute_result",
          "data": {
            "text/plain": [
              "'https://drive.google.com/uc?export=download&id=1eHbOq-2TqGx4d2jZXrUdwNnJY_aM_7rj'"
            ]
          },
          "metadata": {
            "tags": []
          },
          "execution_count": 130
        }
      ]
    },
    {
      "cell_type": "markdown",
      "metadata": {
        "id": "HDZhQiyGCH51",
        "colab_type": "text"
      },
      "source": [
        "# MOD 3 LEARN.CO TIME SERIES LESSONS \n",
        "\n"
      ]
    },
    {
      "cell_type": "markdown",
      "metadata": {
        "id": "YywI36W1IRs7",
        "colab_type": "text"
      },
      "source": [
        "\n",
        "## Time Series with Pandas\n",
        "- Converting to datetime, setting index\n",
        "\n",
        "```python\n",
        "import pandas as pd\n",
        "import numpy as np\n",
        "from pandas.core import datetools\n",
        "\n",
        "temp_data.Date = pd.to_datetime(temp_data.Date, format='%d/%m/%y')\n",
        "temp_data.set_index('Date', inplace = True)\n",
        "\n",
        "```\n",
        "### Downsampling or upsampling time series\n",
        "\n",
        "```python\n",
        "\n",
        "# Downsampling (to larger time unit):\n",
        "temp_monthly= temp_data.resample('MS') # MS = month start\n",
        "\n",
        "# Upsampling (to smaller time unit, may cause NaN\n",
        "temp_bidaily= temp_data.resample('12H').asfreq()\n",
        "\n",
        "# Fill in emppty time indices:\n",
        "temp_bidaily_fill= temp_data.resample('12H').ffill() # Forwards fill\n",
        "temp_bidaily_fill= temp_data.resample('12H').bfill() #Backwards fill\n",
        "\n",
        "```\n",
        "### Slicing time series\n",
        "\n",
        "\n",
        "```python\n",
        "temp_1985_onwards = temp_data['1985':]\n",
        "```\n",
        "\n",
        "### Plotting time series: (ts=time series dataframe)\n",
        "```python\n",
        "# Line plot\n",
        "ts.plot(subplots=True/False)\n",
        "# Dot plot\n",
        "ts.plot(style='.b')\n",
        "# Histogram\n",
        "ts.hist()\n",
        "# KDE\n",
        "ts.plot(kind='kde')\n",
        "# Box & Whiskers\n",
        "ts.boxplot()\n",
        "# Heat maps\n",
        "year_matrix = nyse_annual.T  # First must transpose.\n",
        "plt.matshow(year_matrix, interpolation=None, aspect='auto', cmap=plt.cm.Spectral_r)\n",
        "plt.show()\n",
        "```\n"
      ]
    },
    {
      "cell_type": "markdown",
      "metadata": {
        "id": "a0uF8e_-kjTc",
        "colab_type": "text"
      },
      "source": [
        "\n",
        "## Types of Time Series Trends\n",
        "\n",
        "- Stationary vs Non-Stationary \n",
        "\n",
        "<img src=\"https://www.dropbox.com/s/utn0m1ry9raefx0/Mean_nonstationary.png?raw=1\" width=400>\n",
        "\n",
        "<img src=\"https://www.dropbox.com/s/d5o899hhus5ppxx/Var_nonstationary.png?raw=1\" width=400>\n",
        "\n",
        "- Trends can be:\n",
        "    - Linear\n",
        "    - Exponential\n",
        "    - Periodic/seasonal\n",
        "    - Trends with Increasing/Decreasing Variance\n",
        "    \n",
        "<img src=\"https://www.dropbox.com/s/pfpygr22gnrdz6m/trendseasonal.png?raw=1\" width=500>\n",
        "\n",
        "### Trend detection: Rolling statistics:\n",
        "\n",
        "    - Moving average/variance calculations using ```.rolling()```\n",
        "\n",
        "```python\n",
        "rolmean = ts.rolling(window = 8, center = False).mean()\n",
        "rolstd = ts.rolling(window = 8, center = False).std()\n",
        "fig = plt.figure(figsize=(12,7))\n",
        "orig = plt.plot(ts, color='blue',label='Original')\n",
        "mean = plt.plot(rolmean, color='red', label='Rolling Mean')\n",
        "std = plt.plot(rolstd, color='black', label = 'Rolling Std')\n",
        "```\n",
        "<img src=\"https://www.dropbox.com/s/n6pfycjt0jntk1l/index_38_0.png?raw=1\" width=400>\n",
        "\n",
        "### Trend detection: Dickey Fuller Test\n",
        "- [adfuller from statsmodels.tsa.statstools](http://www.statsmodels.org/dev/generated/statsmodels.tsa.stattools.adfuller.html)\n",
        "- The Dickey Fuller Test null hypothesis is that the series is NOT stationary, so a significant result means that it IS stationary. \n",
        "\n",
        "```python\n",
        "from statsmodels.tsa.stattools import adfuller\n",
        "\n",
        "dftest = adfuller(ts)\n",
        "\n",
        "# Extract and display test results in a user friendly manner\n",
        "dfoutput = pd.Series(dftest[0:4], index=['Test Statistic','p-value','#Lags Used','Number of Observations Used'])\n",
        "for key,value in dftest[4].items():\n",
        "    dfoutput['Critical Value (%s)'%key] = value\n",
        "print(dftest)\n",
        "\n",
        "```\n",
        "\n",
        "### def stationarity_check(): from lessons\n",
        "```python\n",
        "def stationarity_check(TS):\n",
        "    \n",
        "    # Import adfuller\n",
        "    from statsmodels.tsa.stattools import adfuller\n",
        "    \n",
        "    # Calculate rolling statistics\n",
        "    rolmean = TS.rolling(window = 8, center = False).mean()\n",
        "    rolstd = TS.rolling(window = 8, center = False).std()\n",
        "    \n",
        "    # Perform the Dickey Fuller Test\n",
        "    dftest = adfuller(TS['#Passengers']) # change the passengers column as required \n",
        "    \n",
        "    #Plot rolling statistics:\n",
        "    fig = plt.figure(figsize=(12,6))\n",
        "    orig = plt.plot(TS, color='blue',label='Original')\n",
        "    mean = plt.plot(rolmean, color='red', label='Rolling Mean')\n",
        "    std = plt.plot(rolstd, color='black', label = 'Rolling Std')\n",
        "    plt.legend(loc='best')\n",
        "    plt.title('Rolling Mean & Standard Deviation')\n",
        "    plt.show(block=False)\n",
        "    \n",
        "    # Print Dickey-Fuller test results\n",
        "    print ('Results of Dickey-Fuller Test:')\n",
        "\n",
        "    dfoutput = pd.Series(dftest[0:4], index=['Test Statistic','p-value','#Lags Used','Number of Observations Used'])\n",
        "    for key,value in dftest[4].items():\n",
        "        dfoutput['Critical Value (%s)'%key] = value\n",
        "    print (dfoutput)\n",
        "    \n",
        "    return None\n",
        "```\n",
        "- [Article on testing for non-stationary](https://machinelearningmastery.com/time-series-data-stationary-python/)\n",
        "\n",
        "\n"
      ]
    },
    {
      "cell_type": "markdown",
      "metadata": {
        "id": "pyDwX40tku_z",
        "colab_type": "text"
      },
      "source": [
        "## Eliminating trends\n",
        "\n",
        "Have several methods for elimianting different trends:\n",
        "\n",
        "- **Taking the log transformation (or square root, cube root)**\n",
        "        - `np.log(ts)` or `np.sqrt(ts)`\n",
        "    - Will make time series more \"uniform\" over time. \n",
        "    - Higher values are penalized more than lower ones. \n",
        "- **Subtracting the rolling mean**\n",
        "    - Calculate the rolling mean ( using.rolling() ) and subtract it from the ts.\n",
        "\n",
        "```python\n",
        "\n",
        "rolmean = ts.rolling(window = 4).mean()\n",
        "ts_diff = ts - rolmean\n",
        "\n",
        "```\n",
        "        \n",
        "- **Weighted rolling mean.**\n",
        "    - Pandas has Exponentially Weighted Moving Average (ts.ewm())\n",
        "    - Halflife parameter determines exponentail decay. Can use other parameters like span and center of mass to define decay. \n",
        "        - Discussed in [documentation](https://pandas.pydata.org/pandas-docs/stable/reference/api/pandas.DataFrame.ewm.html)\n",
        "        \n",
        "```python\n",
        "# Use Pandas ewma() to calculate Weighted Moving Average of ts_log\n",
        "exp_rolmean = ts.ewm(halflife = 2).mean()\n",
        "data_minus_exp_rolmean = ts - exp_rolmean\n",
        "\n",
        "```\n",
        "\n",
        "- **Differencing**\n",
        "    - Common way dealing with both trends and seasonality is differencing.\n",
        "    - Take the difference between one instant and the previous instant (1-period /first order lag). # of time periods lag = the 'order' of diff. First, second, third, etc. \n",
        "    \n",
        "```python\n",
        "data_diff = data.diff(periods=365)\n",
        "```\n",
        "\n"
      ]
    },
    {
      "cell_type": "markdown",
      "metadata": {
        "id": "4Zmkelbrkx_H",
        "colab_type": "text"
      },
      "source": [
        "## Time Series Decomposition\n",
        "- Turns a time series into multiple different time series. Most often in 3 parts:\n",
        "    1. Seasonal \n",
        "    2. Trend\n",
        "    3. Random (noise/irregular/remainder/residuals)\n",
        "    \n",
        "- Must pick between addititve or multiplicative decomposition:\n",
        "    - Must analzye time series to help decide:\n",
        "        - Does the magnitude of seasonality increase or decrease when the time series increases?\n",
        "    - Statsmodels has seasonal_decompose function. \n",
        "    \n",
        "    <img src=\"https://www.dropbox.com/s/tapjyzdapa72lfl/mseas.fig1_.png?raw=1\">\n",
        "\n",
        "```python\n",
        "# import seasonal_decompose\n",
        "from statsmodels.tsa.seasonal import seasonal_decompose\n",
        "decomposition = seasonal_decompose(np.log(ts))\n",
        "\n",
        "# Gather the trend, seasonality and noise of decomposed object\n",
        "trend = decomposition.trend\n",
        "seasonal = decomposition.seasonal\n",
        "residual = decomposition.resid\n",
        "\n",
        "# Plot gathered statistics\n",
        " plt.plot(np.log(ts), label='Original', color=\"blue\")\n",
        "plt.plot(trend, label='Trend', color=\"blue\")\n",
        "plt.plot(seasonal,label='Seasonality', color=\"blue\")\n",
        "plt.plot(residual, label='Residuals', color=\"blue\")\n",
        "```\n",
        "<img src=\"https://www.dropbox.com/s/6dh8ogkytzjreky/index_4_0.png?raw=1\" width=500>\n",
        "\n",
        "\n",
        "- Article on [decomposing time series](https://machinelearningmastery.com/decompose-time-series-data-trend-seasonality/)\n",
        "\n",
        "\n",
        "### Section 25 Recap\n",
        "The key takeaways from this section include:\n",
        "* When you import time series data into Pandas, make sure to use the time/date information as index values using either a Pandas Timestamp or Python DateTime data type\n",
        "* There are a range of built in functions in Pandas for easily downsampling or upsampling time series data\n",
        "* Line plots and dot plots can be useful for getting a sense of how a time series data set has changed over time\n",
        "* Histograms and density plots can be useful for getting a sense of the time independent distribution of a time series data set\n",
        "* Box and whisker plots per year (or other seasonality period - day, week, month, etc) can be a great way to easily see trends in the distribution of time series data over time\n",
        "* Heat maps can also be useful for comparing changes of time series data across a couple of dimensions. For example, with months on one axis and years on another they can be a great way to see both seasonality and year on year trends\n",
        "* A time series is said to be stationary if its statistical properties such as mean and variance remain constant over time\n",
        "* Most time series models work on the assumption that the time series are stationary (assumption of homoscedasticity)\n",
        "* Many time series data sets *do* have trends, violating the assumption of homoscedasticity\n",
        "* Common examples are trends include linear (straight line over time), exponential and periodic. Some data sets also have increasing (or decreasing) variance over time\n",
        "* Any given data set may exhibit multiple trends (e.g. linear, periodic and reduction in variance)\n",
        "* Rolling statistics can be used to test for trends to see whether the centrality and/or dispersion of the data set changes over time\n",
        "* The Dickey Fuller Test is a common test for determining whether a data set contains trends\n",
        "* Common approaches for removing trends and seasonality include taking a log transform,. subtracting the rolling mean and differencing\n",
        "* Decomposing allows you to separately view seasonality (which could be daily, weekly, annual, etc), trend and \"random\" which is the variability in the data set after removing the effects of the seasonality and trend\n",
        "\n",
        "\n"
      ]
    },
    {
      "cell_type": "markdown",
      "metadata": {
        "id": "haxwfKQ5kXF9",
        "colab_type": "text"
      },
      "source": [
        "## Time Series Models\n"
      ]
    },
    {
      "cell_type": "markdown",
      "metadata": {
        "id": "V96juU_9NarQ",
        "colab_type": "text"
      },
      "source": [
        "- Note: for almost all models you need to make time series stationary first.\n",
        "### White Noise Model\n",
        "- The white noise model has three properties:\n",
        "    - Fixed and constant mean\n",
        "    - Fixed and constant variance\n",
        "    - No correlation over time \n",
        "\n",
        "<img src=\"https://www.dropbox.com/s/jk1pf891qfs2l4d/index_10_0.png?raw=1\" width=400>\n",
        "    \n",
        "- Special case is Gaussian White Noise\n",
        "    - Constant mean = 0\n",
        "    - Constant variance =1\n",
        "- [Article on white noise series in python](https://machinelearningmastery.com/white-noise-time-series-python/)\n",
        "\n",
        "### Random walk model\n",
        "- Very common in finance (i.e. exchange rates) \n",
        "    - Tomorrow's rate is heavily influenced by today's\n",
        "- Contrary to the white noise model, random walk has:\n",
        "    - No specific mean or variance.\n",
        "    - A strong dependence over time. \n",
        "\n",
        "- the changes over time are basically a white noise model \n",
        "\n",
        "$$Y_t = Y_{t-1} + \\epsilon_t$$\n",
        "where $\\epsilon_t$ is a *mean zero* white noise model!\n",
        "\n",
        "<img src=\"https://www.dropbox.com/s/cnlyxoos54ztlbx/index_12_0.png?raw=1\" width=400>\n",
        "\n",
        "\n",
        "#### Random Walk with a drift\n",
        "- The drift (c) steers the model in a certain direction.\n",
        "$$Y_t = c+ Y_{t-1} + \\epsilon_t$$\n",
        "\n",
        "\n",
        "### Correlation & Autocorrelation\n",
        "\n",
        "- [Article: \"A Gentle Introduction to Autocorrelation and Partial Autocorrelations\"](https://machinelearningmastery.com/gentle-introduction-autocorrelation-partial-autocorrelation/\n",
        ")\n",
        "#### Autocorrelation Function (ACF)\n",
        "- Autocorrelation exmaines a time series against itself over increasing values of lag.\n",
        "- Pandas has autocorrelation_plot\n",
        "\n",
        "```\n",
        "pd.plotting.autocorrelation_plot(diet)\n",
        "```\n",
        "\n",
        "<img src=\"https://www.dropbox.com/s/e2uknvwydcijqnl/index_33_0%20%282%29.png?raw=1\" width=500 >\n",
        "\n",
        "- Same data, but after removing trends with differencing:\n",
        "\n",
        "<img src=\"https://www.dropbox.com/s/88u9r2cvnqrob2n/index_37_1.png?raw=1\" width=500>\n",
        "\n",
        "- Can also plot with statsmodels:.\n",
        "```python\n",
        "from statsmodels.graphics.tsaplots import plot_acf\n",
        "plot_acf(diet, lags = 100);\n",
        "```\n",
        "<img src=\"https://www.dropbox.com/s/33llhqo96t8sh3j/index_45_0.png?raw=1\" width=500>\n",
        "\n",
        "#### Partial Autocorrelation Function (PACF)\n",
        "\n",
        "- Similar to ACF, but it controls for values at shorter labs (which ACF does not).\n",
        "    - \"Summary of tge relationship between a time series element and observations at a lab, _with the relationships of intervening observations removed_.\"\n",
        "    - Can be interpreted as a regression of the series against its PAST lags. \n",
        "    - Can use to help pick what order of ARF to use in modeling.\n",
        "\n",
        "Plotted from statsmodels tsaplots:\n",
        "\n",
        "```python\n",
        "from statsmodels.graphics.tsaplots import plot_pacf\n",
        "from matplotlib.pylab import rcParams\n",
        "plot_pacf(diet, lags = 100);\n",
        "\n",
        "```\n",
        "<img src=\"https://www.dropbox.com/s/cr7p0o3prwnmqrs/index_42_0.png?raw=1\" width=500>"
      ]
    },
    {
      "cell_type": "markdown",
      "metadata": {
        "id": "hVHH24Z9IthJ",
        "colab_type": "text"
      },
      "source": [
        "### ARMA Models\n",
        "- Combination of Autoregressive (AR) model and Moving Average (MA) model.\n",
        "    - AR: $Y_t = \\mu + \\phi * Y_{t-1}+\\epsilon_t$\n",
        "    - MA: $Y_t = \\mu +\\epsilon_t + \\theta * \\epsilon_{t-1}$\n",
        "\n",
        "#### The Autoregressive Model\n",
        "- A value from a time series is regressed on preivous values from same time series.\n",
        "\n",
        "$$ \\text{Today = constant + slope} \\times \\text{yesterday + noise} $$\n",
        "\n",
        "Or, mathematically:\n",
        "$$Y_t = \\mu + \\phi * Y_{t-1}+\\epsilon_t$$\n",
        "\n",
        "$\\phi$ is slope. \n",
        "\n",
        "\n",
        "- Notes on this formula:\n",
        "    - If the slope is 0, the ts is a white noise model with mean $\\mu$\n",
        "    - If slope is not 0, the ts is autocorrelated.\n",
        "    - Bigger slop means bigger autocorrelation\n",
        "    - Negative slope =  time series follows oscillatory process. \n",
        "\n"
      ]
    },
    {
      "cell_type": "markdown",
      "metadata": {
        "id": "VzZ0jE6_hdSI",
        "colab_type": "text"
      },
      "source": [
        "##### AR Model Time Series (at varying $\\phi$)\n",
        "**AR time series:**\n",
        "\n",
        "<img src=\"https://www.dropbox.com/s/k9mnam1wv4eltp2/AR_model.png?raw=1\" width =500>\n",
        "\n",
        "**AR series' ACF:**\n",
        "\n",
        "\n",
        "<img src=\"https://www.dropbox.com/s/5ucfnsrlxjev7k8/AR_ACF.png?raw=1\" width =500>\n",
        "> The oscillatory process of the time series with $\\phi=0.9$ is clearly reflected in the autocorrelation function, returning an oscillatory autocorrelation function as well. $\\phi=0.2$ leads to a very low, insignificant,  autocorrelation. $\\phi=0.8$ leads to a strong autocorrelation for the first few lags, and then incurs a steep decline. Having a $\\phi=1.02$ (just slightly bigger than 1) leads to strong and longlasting autocorrelation.\n",
        "\n",
        "\n",
        "**AR series' PACF:**\n",
        "\n",
        "\n",
        "<img src=\"https://www.dropbox.com/s/joazuyts1xmqhzh/AR_PACF.png?raw=1\" width=500>\n",
        "\n",
        "\n",
        "> For each of these PACFs, we notice a high value for 1 lag, then autocorrelations of 0, except for the second one. This is no big surprise, as the slope parameter is fairly small, so the relationship between a value and the next one is fairly limited."
      ]
    },
    {
      "cell_type": "markdown",
      "metadata": {
        "id": "2Z4XoRF0i8wj",
        "colab_type": "text"
      },
      "source": [
        "#### The Moving Average Model\n",
        "- The weighted sum of today's and yesterday's noise \n",
        "\n",
        "$$ \\text{Today = Mean + Noise + Slope} \\times \\text{yesterday's noise} $$\n",
        "\n",
        "Or, mathematically:\n",
        "$$Y_t = \\mu +\\epsilon_t + \\theta * \\epsilon_{t-1}$$\n",
        "\n",
        "- Some notes based on this formula:\n",
        "    - If the slope is 0, the time series is a white noise model with mean $\\mu$\n",
        "    - If the slope is not 0, the time series is autocorrelated and depends on the previous white noise process\n",
        "    - Bigger slope means bigger autocorrelation\n",
        "    - When there is a negative slope, the time series follow an oscillatory process\n",
        "\n",
        "##### MA Model Time Series (at varying $\\phi$)\n",
        "**MA time series:**\n",
        "\n",
        "<img src=\"https://www.dropbox.com/s/ic7uzmgtuhdoqu4/MA_model.png?raw=1\"  width=500>\n",
        "\n",
        ">When there is a posivite $\\theta$ there is a certain persistence in level, meaning that each observation is generally close to its neighbors. This is more pronounced for higher . values of $\\theta$. MA series with negative coefficients, however, show oscillatory patterns. Recall that when $\\theta=0$, the process is a true White Noise Process! \n",
        "\n",
        "\n",
        "**MA ACF:**\n",
        "\n",
        "<img src=\"https://www.dropbox.com/s/fv7sryfxyazve82/MA_ACF.png?raw=1\" width=500>\n",
        "\n",
        "> MA processes have autocorrelations, but because of the structure of the MA formula (regressing it on the noise term of the previous observation) there is **only a dependence for one period, and the autocorrelation is zero for lags 2 and higher.**\n",
        "\n",
        "> If $\\theta >0$ the lag one autocorrelation is positive, if $\\theta <0$ the lag one autocorrelation is negative.\n",
        "\n",
        "\n",
        "**MA PACF:**\n",
        "\n",
        "<img src=\"https://www.dropbox.com/s/fsijauyvae9hj2v/MA_PACF.png?raw=1\" width=500>\n",
        "\n",
        "> Typically a strong correlation with the 1-period lag (strength depending in theta), and then the PACF gradually tails off. "
      ]
    },
    {
      "cell_type": "markdown",
      "metadata": {
        "id": "yWGCsXhQkVlP",
        "colab_type": "text"
      },
      "source": [
        "### Higher Order AR(p) and MA(q) Models \n",
        "- First order:\n",
        "    - AR: $Y_t = \\mu + \\phi * Y_{t-1}+\\epsilon_t$\n",
        "    - MA: $Y_t = \\mu +\\epsilon_t + \\theta * \\epsilon_{t-1}$\n",
        "- Second order:\n",
        "    - AR(2): $Y_t = \\mu + \\phi_1 * Y_{t-1}+\\phi_2 * Y_{t-2}+\\epsilon_t$\n",
        "    - MA(2): $Y_t = \\mu +\\epsilon_t + \\theta_1 * \\epsilon_{t-1}+ \\theta_2 * \\epsilon_{t-2}$\n",
        "\n",
        "\n",
        "- AR(p):\n",
        "    - ACF for AR(p) would be strong until lag of p, then stagnant, then trail off. \n",
        "    - PACF for AR(p): Generally no correlation for lag values beyond p.\n",
        "- MA(q):\n",
        "    - ACF for MA(q) would show strong correlation up to a lag of q, the immedately delcine to minimal/no correction.\n",
        "    - PACF would show strong relationship to the lab and tailing off to no correlation afterwards.\n",
        "    \n",
        "    \n",
        "### ARMA Models:\n",
        "- In an ARMA model, is a regression on paste values (AR part) and the error term is modeled as a linear combo of error terms in the recent past (MA part). \n",
        "- Notation is generally ARMA(p,q)\n",
        "    - Example: ARMA(2,1) model equation\n",
        "     $$Y_t = \\mu + \\phi_1 Y_{t-1}+\\phi_2 Y_{t-2}+ \\theta \\epsilon_{t-1}+\\epsilon_t$$\n",
        "\n",
        "| | AR(p)   |   MA(q)  | ARMA(p,q)|\n",
        "|------|------|------|------|\n",
        "|   ACF | Tails off   |  Cuts off after lag q |  Tails off   |\n",
        "|   PACF | Cuts off after lag p  |   Tails off  |  Tails off  |\n",
        "\n",
        "\n",
        " #### General process when modeling with a time series:\n",
        "\n",
        "- Detrend your time series using differencing. ARMA models represent stationary processes, so we have to make sure there are no trends in our time series\n",
        "- Look at ACF and PACF of the time series\n",
        "- Decide on the AR, MA and order of these models\n",
        "- Fit the model to get the correct parameters and use for prediction\n",
        "\n",
        "\n",
        "[Additional Information on ARMA can be found here  in lessons 1 and 2.](https://newonlinecourses.science.psu.edu/stat510/node/41/)\n",
        "    "
      ]
    },
    {
      "cell_type": "markdown",
      "metadata": {
        "id": "uVcxyBkymKe4",
        "colab_type": "text"
      },
      "source": [
        "### sARIMA Models [BOOKMARK]\n",
        "- Integrated ARMA models. "
      ]
    },
    {
      "cell_type": "markdown",
      "metadata": {
        "id": "eFY0lj9Um_MR",
        "colab_type": "text"
      },
      "source": [
        "[BOOKMARK]"
      ]
    },
    {
      "cell_type": "markdown",
      "metadata": {
        "id": "4B9BvEY_m_nY",
        "colab_type": "text"
      },
      "source": [
        "### Section 26: Key Takeaways\n",
        "\n",
        "The key takeaways from this section include:\n",
        "* A White Noise model has a fixed and constant mean and variance, and no correlation over time\n",
        "* A Random Walk model has no specified mean or variance, but has a strong dependance over time\n",
        "* The Pandas `corr()` function can be used to return the correlation between various time series data sets\n",
        "* Autocorrelation allows us to identify how strongly each time serties observation is related to previous observations\n",
        "*  The autocorrelation function (ACF) is a function that represents autocorrelation of a time series as a function of the time lag\n",
        "* The Partial Autocorrelation Function (or PACF) gives the partial correlation of a time series with its own lagged values, controlling for the values of the time series at all shorter lags\n",
        "* ARMA (AutoRegressive and Moving Average) modeling is a tool for forecasting time series values by regressing the variable on its own lagged (past) values\n",
        "* ARMA models assume that you've already detrended your data and that there is no seasonality\n",
        "* ARIMA (Integrated ARMA) models allow for detrending as part of the modeling process and work well for data sets with trends but no seasonality\n",
        "* SARIMA (Seasonal ARIMA) models allow for both detrending and seasonality as part of the modeling process\n",
        "* Fracebook Prophet enables data analysts and developers alike to perform forecasting at scale in Python\n",
        "* Prophet uses Additive Synthesis for time series forecasting\n"
      ]
    },
    {
      "cell_type": "code",
      "metadata": {
        "id": "bQFFQvQbSgoI",
        "colab_type": "code",
        "colab": {}
      },
      "source": [
        ""
      ],
      "execution_count": 0,
      "outputs": []
    },
    {
      "cell_type": "markdown",
      "metadata": {
        "id": "LZDHng-C1QIr",
        "colab_type": "text"
      },
      "source": [
        "# Extra Time Series Notes - Udemy Course + Misc Refs"
      ]
    },
    {
      "cell_type": "markdown",
      "metadata": {
        "id": "BVzLTBxAXRnh",
        "colab_type": "text"
      },
      "source": [
        "\n",
        "- **DATASETS**:\n",
        "    - US Population:\n",
        "        - https://drive.google.com/open?id=1sBfxRrAL--acKKWVZCEFYThJeECANLud\n",
        "        - index_col = 'DATE'\n",
        "    - Airline Passengers\n",
        "        - https://drive.google.com/open?id=1eHbOq-2TqGx4d2jZXrUdwNnJY_aM_7rj\n",
        "        - index_col = 'Month'\n",
        "    - Daily Total Female Births\n",
        "        - https://drive.google.com/open?id=1Vn8XXVro0obbx0ZQr3D9LORLtchYW9NU\n",
        "        - index_col='Date'\n",
        "        \n",
        "<br>        \n",
        "- Use make_gdrive_file_url with the above links:\n",
        "    ```python\n",
        "    def make_gdrive_file_url(share_url_from_gdrive):\n",
        "        \"\"\"accepts gdrive share url with format 'https://drive.google.com/open?id=`\n",
        "        and returns a pandas-usable link with format ''https://drive.google.com/uc?export=download&id='\"\"\"\n",
        "        import re\n",
        "        file_id = re.compile(r'id=(.*)')\n",
        "        fid = file_id.findall(share_url_from_gdrive)\n",
        "        prepend_url = 'https://drive.google.com/uc?export=download&id='\n",
        "        output_url = prepend_url + fid[0]\n",
        "        return output_url \n",
        "```"
      ]
    },
    {
      "cell_type": "markdown",
      "metadata": {
        "id": "viTq9BQ3B9xl",
        "colab_type": "text"
      },
      "source": [
        "## Time Series Forecasting Overview\n",
        "- from working on capstone project [06/29/19]\n"
      ]
    },
    {
      "cell_type": "markdown",
      "metadata": {
        "id": "gUtknpfi5iQM",
        "colab_type": "text"
      },
      "source": [
        "\n",
        "- **Forecasting Methods:**\n",
        "    - Simple Moving Average / Simple Exponential Smoothing\n",
        "        - simplest, does not consider trends\n",
        "        - prediction is horizonal line\n",
        "    - Holt's Method / Double Exponential Smoothing\n",
        "        - takes trends into account\n",
        "        - prediction striaght line with slope\n",
        "    - Holt-Winters Method / Triple Exponential Smoothing\n",
        "        - takes trends AND seasonality into account.\n",
        "        - prediction attempts to map seasonal behavior\n"
      ]
    },
    {
      "cell_type": "markdown",
      "metadata": {
        "id": "2qy2BRxt5oPr",
        "colab_type": "text"
      },
      "source": [
        "        \n",
        "### Forecasting with Holt Winters:\n",
        "\n",
        "- Data Share URL: \n",
        "    - https://drive.google.com/open?id=1eHbOq-2TqGx4d2jZXrUdwNnJY_aM_7rj\n",
        "- Data Load-able URL: (take share link's id and append to ' https://drive.google.com/uc?export=download&id=')\n",
        "    - https://drive.google.com/uc?export=download&id=1eHbOq-2TqGx4d2jZXrUdwNnJY_aM_7rj\n",
        "    \n",
        "    \n",
        "    \n",
        "#### Data Preparation\n",
        "- example used dataframe with `'MS'` timeindex and 1 column (target)\n",
        "- Train-test-split works very different than other types of data.\n",
        "    - Use row/time index to split data in to `train_data` and `test_data` \n",
        "\n",
        "```python\n",
        "train_data = df.iloc[:108] # Goes up to but not including 108\n",
        "test_data = df.iloc[108:]\n",
        "```"
      ]
    },
    {
      "cell_type": "code",
      "metadata": {
        "id": "aPHjgHh74rH8",
        "colab_type": "code",
        "outputId": "063bf592-2d55-499a-815e-b9f15d680c84",
        "colab": {
          "base_uri": "https://localhost:8080/",
          "height": 434
        }
      },
      "source": [
        "import pandas as pd\n",
        "import numpy as np \n",
        "import matplotlib.pyplot as plt\n",
        "\n",
        "url = 'https://drive.google.com/uc?export=download&id=1eHbOq-2TqGx4d2jZXrUdwNnJY_aM_7rj'\n",
        "df = pd.read_csv(url, index_col='Month',parse_dates=True)\n",
        "df.index.freq= 'MS'\n",
        "display(df.info())\n",
        "\n",
        "# Train-test-split\n",
        "train_data = df.iloc[:108] # Goes up to but not including 108\n",
        "test_data = df.iloc[108:]\n",
        "\n",
        "\n",
        "# Visualizing datasets before modeling\n",
        "fig, ax=plt.subplots()\n",
        "train_data.plot(ax=ax, label='Training Data',legend=False)\n",
        "test_data.plot(ax=ax, label = 'Test Data',legend=False)\n",
        "ax.legend(['Train','Test'])"
      ],
      "execution_count": 0,
      "outputs": [
        {
          "output_type": "stream",
          "text": [
            "<class 'pandas.core.frame.DataFrame'>\n",
            "DatetimeIndex: 144 entries, 1949-01-01 to 1960-12-01\n",
            "Freq: MS\n",
            "Data columns (total 1 columns):\n",
            "Thousands of Passengers    144 non-null int64\n",
            "dtypes: int64(1)\n",
            "memory usage: 2.2 KB\n"
          ],
          "name": "stdout"
        },
        {
          "output_type": "display_data",
          "data": {
            "text/plain": [
              "None"
            ]
          },
          "metadata": {
            "tags": []
          }
        },
        {
          "output_type": "execute_result",
          "data": {
            "text/plain": [
              "<matplotlib.legend.Legend at 0x7f19ddea3198>"
            ]
          },
          "metadata": {
            "tags": []
          },
          "execution_count": 17
        },
        {
          "output_type": "display_data",
          "data": {
            "image/png": "[encoded data removed]",
            "text/plain": [
              "<Figure size 432x288 with 1 Axes>"
            ]
          },
          "metadata": {
            "tags": []
          }
        }
      ]
    },
    {
      "cell_type": "markdown",
      "metadata": {
        "colab_type": "text",
        "id": "xOM-z4IojhCW"
      },
      "source": [
        "\n",
        "#### Using Statsmodels.tsa.holtwinters' `ExponentialSmoothing`\n",
        "- **Note to self:**\n",
        "    - The forecast period was 3 times the length of the seasonal period (not sure of reason)\n",
        "        - Since data has a seasonality/cycle that seems to restart ever 12 months ( and the data is in month frequency):\n",
        "        - `seasonal_periods=12`\n",
        "    - I had to add `.astype(np.float)` to get the model to fit without error\n",
        "\n",
        "    \n",
        "```python\n",
        "## \n",
        "from statsmodels.tsa.holtwinters import Exponential Smoothing\n",
        "\n",
        "# FIT THE MODEL\n",
        "target_col='Thousands of Passengers'\n",
        "fitted_model = ExponentialSmoothing(train_data[target_col], trend='mul',seasonal='mul',\n",
        "seasonal_periods=12).fit()\n",
        "\n",
        "# EVALUATE THE MODEL\n",
        "test_predictions = fitted_model.forecast(36).rename('HW Forecast')\n",
        "\n",
        "# PLOT DATA AND PREDICTIONS\n",
        "train_data['Thousands of Passengers'].plot(legend=True,label='TRAIN')\n",
        "test_data['Thousands of Passengers'].plot(legend=True,label='TEST',figsize=(12,8))\n",
        "test_predictions.plot(legend=True,label='PREDICTION');\n",
        "```\n",
        "\n",
        "    \n",
        "- **Evaluation Metrics**\n",
        "    - use mean absolute error, mean squared error, and root mean sequared error (np.sqrt of mean squared error)\n",
        "\n",
        "```python\n",
        "sfrom sklearn.metrics import mean_squared_error, mean_absolute_error\n"
      ]
    },
    {
      "cell_type": "code",
      "metadata": {
        "colab_type": "code",
        "outputId": "acb845e4-3b31-47a6-914c-7d7de13c0ada",
        "id": "QAR3tohijhCT",
        "colab": {
          "base_uri": "https://localhost:8080/",
          "height": 67
        }
      },
      "source": [
        "from statsmodels.tsa.holtwinters import ExponentialSmoothing\n",
        "\n",
        "# FIT THE MODEL\n",
        "target_col='Thousands of Passengers'\n",
        "fitted_model = ExponentialSmoothing(train_data[target_col].astype(np.float),trend='mul',seasonal='mul',seasonal_periods=12).fit()\n",
        "\n",
        "# EVALUATE THE MODEL\n",
        "test_predictions = fitted_model.forecast(36).rename('HW Forecast')\n",
        "\n",
        "from sklearn.metrics import mean_squared_error,mean_absolute_error\n",
        "print('MAE: ',mean_absolute_error(test_data,test_predictions))\n",
        "print('MSE: ',mean_squared_error(test_data,test_predictions))\n",
        "print('RMSE: ',np.sqrt(mean_squared_error(test_data,test_predictions)))"
      ],
      "execution_count": 0,
      "outputs": [
        {
          "output_type": "stream",
          "text": [
            "MAE:  53.16361991340851\n",
            "MSE:  3200.583445912333\n",
            "RMSE:  56.57369924189449\n"
          ],
          "name": "stdout"
        }
      ]
    },
    {
      "cell_type": "code",
      "metadata": {
        "colab_type": "code",
        "outputId": "3e240edf-ec21-46fa-cd96-9f9ff3056800",
        "id": "XmDyo9e0jhCR",
        "colab": {
          "base_uri": "https://localhost:8080/",
          "height": 297
        }
      },
      "source": [
        "# PLOT DATA AND PREDICTIONS\n",
        "\n",
        "# VISUALIZING FULL DATA & ZOOMED-IN ON PREDICTION DATA\n",
        "fig,ax =  plt.subplots(figsize=(12,4))\n",
        "ax=plt.subplot2grid(shape=(1,3),loc=(0,0),colspan=2, fig=fig)\n",
        "\n",
        "train_data['Thousands of Passengers'].plot(legend=True,label='TRAIN',ax=ax)\n",
        "test_data['Thousands of Passengers'].plot(legend=True,label='TEST',ax=ax)#figsize=(12,8),\n",
        "test_predictions.plot(legend=True,label='PREDICTION',ax=ax);\n",
        "\n",
        "ax2 = plt.subplot2grid((1,3),(0, 2))\n",
        "test_data['Thousands of Passengers'].plot(legend=True,label='TEST',ax=ax2,color='orange')#figsize=(12,8),\n",
        "test_predictions.plot(legend=True,label='PREDICTION',ax=ax2,color='g');\n",
        "ax2.set_xlim(min(test_predictions.index))\n",
        "plt.tight_layout()"
      ],
      "execution_count": 0,
      "outputs": [
        {
          "output_type": "display_data",
          "data": {
            "image/png": "[encoded data removed]",
            "text/plain": [
              "<Figure size 864x288 with 2 Axes>"
            ]
          },
          "metadata": {
            "tags": []
          }
        }
      ]
    },
    {
      "cell_type": "markdown",
      "metadata": {
        "colab_type": "text",
        "id": "ir_BnrFCjhCQ"
      },
      "source": [
        "## Building up to ARIMA Models \n"
      ]
    },
    {
      "cell_type": "markdown",
      "metadata": {
        "colab_type": "text",
        "id": "bWdSwUrGjhCP"
      },
      "source": [
        "### Time Series Basics - Differencing\n",
        "\n",
        "We can perform differenceing to remove trends from data. <br>\n",
        "This will subtracts the data from itself at a specified lag (default is 1)\n",
        "\n",
        "- **First Order Differencing - Methods**\n",
        "    - **With pandas:**\n",
        "        - use `df2['b'].diff()` method - easiest way \n",
        "            - note this will remove first row of data\n",
        "            - Note that `df.diff(2)` is STILL first order diff, but with lag=2\n",
        "    - **With stastmodels**\n",
        "        - `statsmodels.tsa.statespace.tools` has a `diff` function too\n",
        "        - `diff(df2['b'], k_diff=1)`\n",
        "\n",
        "- ~~**Higher Order Differecing**~~[ ?]\n",
        "    - Would need to call on `.diff()` repeatedly\n",
        "        - `df.diff().diff()`\n",
        "    "
      ]
    },
    {
      "cell_type": "code",
      "metadata": {
        "colab_type": "code",
        "outputId": "f4908c0d-28b1-43f0-fb44-b6c315a324cf",
        "id": "yxfUcFt1jhCN",
        "colab": {
          "base_uri": "https://localhost:8080/",
          "height": 106
        }
      },
      "source": [
        "share_url ='https://drive.google.com/open?id=13u5MkNymLkukVHGtuyGtGqc3TPTODJNi'\n",
        "\n",
        "# def make_gdrive_file_url(share_url_from_gdrive):\n",
        "#     \"\"\"accepts gdrive share url with format 'https://drive.google.com/open?id=`\n",
        "#     and returns a pandas-usable link with format ''https://drive.google.com/uc?export=download&id='\"\"\"\n",
        "#     import re\n",
        "#     file_id = re.compile(r'id=(\\w*)')\n",
        "#     fid = file_id.findall(share_url)\n",
        "#     prepend_url = 'https://drive.google.com/uc?export=download&id='\n",
        "#     output_url = prepend_url + fid[0]\n",
        "#     return output_url \n",
        "\n",
        "\n",
        "df2_url = make_gdrive_file_url(share_url)\n",
        "df2=pd.read_csv(df2_url, index_col=0, parse_dates=True)\n",
        "display(df2.head(2))"
      ],
      "execution_count": 0,
      "outputs": [
        {
          "output_type": "display_data",
          "data": {
            "text/html": [
              "<div>\n",
              "<style scoped>\n",
              "    .dataframe tbody tr th:only-of-type {\n",
              "        vertical-align: middle;\n",
              "    }\n",
              "\n",
              "    .dataframe tbody tr th {\n",
              "        vertical-align: top;\n",
              "    }\n",
              "\n",
              "    .dataframe thead th {\n",
              "        text-align: right;\n",
              "    }\n",
              "</style>\n",
              "<table border=\"1\" class=\"dataframe\">\n",
              "  <thead>\n",
              "    <tr style=\"text-align: right;\">\n",
              "      <th></th>\n",
              "      <th>a</th>\n",
              "      <th>b</th>\n",
              "      <th>c</th>\n",
              "      <th>d</th>\n",
              "    </tr>\n",
              "  </thead>\n",
              "  <tbody>\n",
              "    <tr>\n",
              "      <th>1950-01-01</th>\n",
              "      <td>36</td>\n",
              "      <td>27</td>\n",
              "      <td>0</td>\n",
              "      <td>67</td>\n",
              "    </tr>\n",
              "    <tr>\n",
              "      <th>1950-02-01</th>\n",
              "      <td>58</td>\n",
              "      <td>22</td>\n",
              "      <td>3</td>\n",
              "      <td>31</td>\n",
              "    </tr>\n",
              "  </tbody>\n",
              "</table>\n",
              "</div>"
            ],
            "text/plain": [
              "             a   b  c   d\n",
              "1950-01-01  36  27  0  67\n",
              "1950-02-01  58  22  3  31"
            ]
          },
          "metadata": {
            "tags": []
          }
        }
      ]
    },
    {
      "cell_type": "code",
      "metadata": {
        "colab_type": "code",
        "id": "qjrj_XzkjhCJ",
        "colab": {}
      },
      "source": [
        "# # PLOT THE DATA CONTENTS\n",
        "# fig, ax = plt.subplots(nrows=1,ncols=3, figsize=(16,4))\n",
        "# df2['a'].plot(ax=ax[0],ylim=[0,100],title=\"STATIONARY DATA\").autoscale(axis='x',tight=True);\n",
        "# df2['b'].plot(ax=ax[1],ylim=[0,100],title=\"NON-STATIONARY DATA\").autoscale(axis='x',tight=True);\n",
        "# df2['c'].plot(ax=ax[2],ylim=[0,10000],title=\"MORE NON-STATIONARY DATA\").autoscale(axis='x',tight=True);"
      ],
      "execution_count": 0,
      "outputs": []
    },
    {
      "cell_type": "markdown",
      "metadata": {
        "colab_type": "text",
        "id": "VNpGQNfWjhCI"
      },
      "source": [
        "### Time Series Basics - Discussing ACF/PACF \n",
        "\n",
        "- **ACF** describes autocorrelation between an observation and another observation at a prior time step.\n",
        "    - This includes direct and indirect dependence of information\n",
        "    \n",
        "- **PACF**: plot relationship between previous days' residuals vs. te real values of the current day\n",
        "    - PACF only describes relationship between an observation and its lag\n",
        "    - The drops off very quickly\n",
        "    \n",
        "    - Note: for PACF, there are 2 main ways it can be calculated:\n",
        "        - The Yule Walker method (YW)\n",
        "        - the Least Ordinary Squares (OLS) method\n",
        "    \n",
        "    \n",
        "- We will use these plots to help us judge what values to use for our ARIMA-based models\n",
        "    - But in reality we will probably use a grid search and not the plots\n",
        "\n"
      ]
    },
    {
      "cell_type": "code",
      "metadata": {
        "colab_type": "code",
        "id": "mENt1jlljhCE",
        "colab": {}
      },
      "source": [
        "passenger_data =make_gdrive_file_url(\"https://drive.google.com/open?id=1eHbOq-2TqGx4d2jZXrUdwNnJY_aM_7rj\")\n",
        "births_data = make_gdrive_file_url(\"https://drive.google.com/open?id=1Vn8XXVro0obbx0ZQr3D9LORLtchYW9NU\")\n",
        "\n",
        "df1 = pd.read_csv(passenger_data, index_col=\"Month\",parse_dates=True)\n",
        "df1.index.freq='MS'\n",
        "df2 = pd.read_csv(births_data, index_col=\"Date\",parse_dates=True)\n",
        "df2.index.freq='D'\n",
        "\n",
        "# fig,ax = plt.subplots(figsize=(14,4),ncols=2)\n",
        "# df1.plot(ax=ax[0])\n",
        "# df2.plot(ax=ax[1])"
      ],
      "execution_count": 0,
      "outputs": []
    },
    {
      "cell_type": "code",
      "metadata": {
        "colab_type": "code",
        "outputId": "8dac4b21-4bb5-4faf-efc8-dd249b8db87a",
        "id": "ZX7QhB6OjhCB",
        "colab": {
          "base_uri": "https://localhost:8080/",
          "height": 258
        }
      },
      "source": [
        "from pandas.plotting import lag_plot\n",
        "\n",
        "fig,ax = plt.subplots(figsize=(10,3),ncols=2)\n",
        "\n",
        "lag_plot(df1['Thousands of Passengers'],ax=ax[0])\n",
        "lag_plot(df2['Births'], ax=ax[1])\n",
        "ax[0].set_title('Visible Correlation')\n",
        "ax[1].set_title('No Visible Correlation')"
      ],
      "execution_count": 0,
      "outputs": [
        {
          "output_type": "execute_result",
          "data": {
            "text/plain": [
              "Text(0.5, 1.0, 'No Visible Correlation')"
            ]
          },
          "metadata": {
            "tags": []
          },
          "execution_count": 125
        },
        {
          "output_type": "display_data",
          "data": {
            "image/png": "[encoded data removed]",
            "text/plain": [
              "<Figure size 720x216 with 2 Axes>"
            ]
          },
          "metadata": {
            "tags": []
          }
        }
      ]
    },
    {
      "cell_type": "code",
      "metadata": {
        "colab_type": "code",
        "outputId": "5b35068f-5ffe-485c-de90-217bb396ae8e",
        "id": "6C1D4FU9jhB9",
        "colab": {
          "base_uri": "https://localhost:8080/",
          "height": 618
        }
      },
      "source": [
        "from statsmodels.graphics.tsaplots import plot_acf,plot_pacf\n",
        "\n",
        "fig,ax = plt.subplots(nrows=3,ncols=2,figsize=(12,8))\n",
        "\n",
        "df1.plot(ax=ax[0,0])\n",
        "df2.plot(ax=ax[0,1])\n",
        "\n",
        "plot_acf(df1,ax=ax[1,0], lags=40);\n",
        "plot_acf(df2,ax=ax[1,1],lags=40);\n",
        "\n",
        "plot_pacf(df1,ax=ax[2,0],lags=40);\n",
        "plot_pacf(df2,ax=ax[2,1],lags=40);\n",
        "\n",
        "plt.tight_layout()"
      ],
      "execution_count": 0,
      "outputs": [
        {
          "output_type": "stream",
          "text": [
            "/usr/local/lib/python3.6/dist-packages/statsmodels/regression/linear_model.py:1358: RuntimeWarning: invalid value encountered in sqrt\n",
            "  return rho, np.sqrt(sigmasq)\n"
          ],
          "name": "stderr"
        },
        {
          "output_type": "display_data",
          "data": {
            "image/png": "[encoded data removed]",
            "text/plain": [
              "<Figure size 864x576 with 6 Axes>"
            ]
          },
          "metadata": {
            "tags": []
          }
        }
      ]
    },
    {
      "cell_type": "markdown",
      "metadata": {
        "id": "g61sLtoRkFa7",
        "colab_type": "text"
      },
      "source": [
        "## Introduction to ARIMA Models\n"
      ]
    },
    {
      "cell_type": "markdown",
      "metadata": {
        "id": "7Vl3IC0skZ2c",
        "colab_type": "text"
      },
      "source": [
        "We'll investigate a variety of different forecasting models in upcoming sections, but they all stem from ARIMA.\n",
        "\n",
        "<strong>ARIMA</strong>, or <em>Autoregressive Integrated Moving Average</em> is actually a combination of 3 models:\n",
        "* <strong>AR(p)</strong> Autoregression - a regression model that utilizes the dependent relationship between a current observation and observations over a previous period\n",
        "* <strong>I(d)</strong> Integration - uses differencing of observations (subtracting an observation from an observation at the previous time step) in order to make the time series stationary\n",
        "* <strong>MA(q)</strong> Moving Average - a model that uses the dependency between an observation and a residual error from a moving average model applied to lagged observations.\n",
        "\n",
        "<strong>Moving Averages</strong> we've already seen with EWMA and the Holt-Winters Method.<br>\n",
        "<strong>Integration</strong> will apply differencing to make a time series stationary, which ARIMA requires.<br>\n",
        "<strong>Autoregression</strong> is explained in detail in the next section. Here we're going to correlate a current time series with a lagged version of the same series.<br>\n",
        "Once we understand the components, we'll investigate how to best choose the $p$, $d$ and $q$ values required by the model.\n",
        "\n"
      ]
    },
    {
      "cell_type": "markdown",
      "metadata": {
        "id": "Trbxbbxgkb20",
        "colab_type": "text"
      },
      "source": [
        "### ARIMA REQUIREMENTS/STEPS\n"
      ]
    },
    {
      "cell_type": "markdown",
      "metadata": {
        "colab_type": "text",
        "id": "e75Px4D6jhB7"
      },
      "source": [
        "\n",
        "- [ ] **Data must be stationary:** use stationarity tests (like ADFuller test) to test for stationary and transform data until it passes the tests by using the methods below:\n",
        "    1. Use Differencing, can do repeatedly, but lose rows of data\n",
        "    2. For seasonal data, you could difference by a SEASON instead of just 1 period\n",
        "    3. For seasonal ARIMA models, combine both methods, taking the seasonal differnce of the first difference.\n",
        "    \n",
        "### p,d,q \n",
        "\n",
        "- p: the number of lags to include in the AR model.\n",
        "- d: the number of times the raw observations are differenced\n",
        "- q: the size of the moving average window AKA the order of the moving average\n",
        "\n",
        "- **Picking the `p`,`d`,`q` terms for the model:**\n",
        "    1. Tedious way: use the acf and pacf plots to asses which ones to use\n",
        "    2. Use a Grid Search to test many combinations of p,d,q and find the ideal combination\n",
        "    \n",
        "    - **Using PACF and ACF: Rules of thumb:**\n",
        "        - PACF:\n",
        "            - A sharp drop off after lag # 'k' suggests k should be order for the AR-model\n",
        "            - If there is a gradual decline, it suggests a MA model should be used.\n",
        "        - ACF:\n",
        "        - When to use which:\n",
        "            - Identifying an AR model is best done with PACF\n",
        "            - Identifying a MA model best done with _ACF_"
      ]
    },
    {
      "cell_type": "markdown",
      "metadata": {
        "colab_type": "text",
        "id": "MlJl9JnXjhB5"
      },
      "source": [
        "### AR Models with `statsmodels.tsa.ar_model`\n",
        "\n",
        "\n",
        "- US Population:\n",
        "    - https://drive.google.com/open?id=1sBfxRrAL--acKKWVZCEFYThJeECANLud\n",
        "    - index_col = \n",
        "\n",
        "\n",
        "```python\n",
        "from statsmodels.tsa.ar_model import AR,ARResults\n"
      ]
    },
    {
      "cell_type": "code",
      "metadata": {
        "colab_type": "code",
        "id": "H_Bcgj1MjhB0",
        "colab": {}
      },
      "source": [
        "url = make_gdrive_file_url(\"https://drive.google.com/open?id=1sBfxRrAL--acKKWVZCEFYThJeECANLud\")\n",
        "df = pd.read_csv(url, index_col='DATE',parse_dates=True)\n",
        "# df.head()\n",
        "\n",
        "# split data\n",
        "train = df.iloc[:84]\n",
        "test = df.iloc[84:]"
      ],
      "execution_count": 0,
      "outputs": []
    },
    {
      "cell_type": "code",
      "metadata": {
        "colab_type": "code",
        "outputId": "6717e464-8cd6-4ef9-bbde-541cea562e90",
        "id": "g958dUX9jhBw",
        "colab": {
          "base_uri": "https://localhost:8080/",
          "height": 134
        }
      },
      "source": [
        "from statsmodels.tsa.ar_model import AR,ARResults\n",
        "\n",
        "# FIT AR ORDER 1 MOEL\n",
        "model = AR(train)\n",
        "\n",
        "AR1fit = model.fit(maxlag=1)\n",
        "# AR2fit = model.fit(maxlag=2)\n",
        "\n",
        "\n",
        "\n",
        "## Lots of info as attributes of fit model\n",
        "print('Model Order :',AR1fit.k_ar)\n",
        "print('AIC :',AR1fit.aic)\n",
        "print('\\nparams: ')\n",
        "print(AR1fit.params)"
      ],
      "execution_count": 0,
      "outputs": [
        {
          "output_type": "stream",
          "text": [
            "Model Order : 1\n",
            "AIC : 6.410771237032229\n",
            "\n",
            "params: \n",
            "const        284.913797\n",
            "L1.PopEst      0.999686\n",
            "dtype: float64\n"
          ],
          "name": "stdout"
        }
      ]
    },
    {
      "cell_type": "code",
      "metadata": {
        "colab_type": "code",
        "id": "BDO48NjNjhBs",
        "colab": {}
      },
      "source": [
        "# MAKING PREDICTIONS WITH MODEL\n",
        "start = len(train)\n",
        "end = len(train) + len(test)-1\n",
        "\n",
        "predictions1 = AR1fit.predict(start=start, end=end)\n",
        "predictions1 = predictions1.rename('AR(1) Predictions')\n",
        "\n",
        "# predictions2 = AR2fit.predict(start=start, end=end)\n",
        "# predictions2 = predictions2.rename('AR(2) Predictions')"
      ],
      "execution_count": 0,
      "outputs": []
    },
    {
      "cell_type": "code",
      "metadata": {
        "colab_type": "code",
        "outputId": "767fb65e-2686-4dc6-980a-a0482d726372",
        "id": "c3-zh579jhBo",
        "colab": {
          "base_uri": "https://localhost:8080/",
          "height": 235
        }
      },
      "source": [
        "ARfit = model.fit(ic='aic')\n",
        "print(ARfit.k_ar)\n",
        "\n",
        "predictions2 = ARfit.predict(start=start, end=end).rename('AIC-Selected')\n",
        "ARfit.params"
      ],
      "execution_count": 0,
      "outputs": [
        {
          "output_type": "stream",
          "text": [
            "10\n"
          ],
          "name": "stdout"
        },
        {
          "output_type": "execute_result",
          "data": {
            "text/plain": [
              "const         92.313872\n",
              "L1.PopEst      2.309054\n",
              "L2.PopEst     -2.053715\n",
              "L3.PopEst      1.381127\n",
              "L4.PopEst     -1.183727\n",
              "L5.PopEst      0.821019\n",
              "L6.PopEst     -0.696891\n",
              "L7.PopEst      0.723430\n",
              "L8.PopEst     -0.363562\n",
              "L9.PopEst      0.261208\n",
              "L10.PopEst    -0.198199\n",
              "dtype: float64"
            ]
          },
          "metadata": {
            "tags": []
          },
          "execution_count": 170
        }
      ]
    },
    {
      "cell_type": "code",
      "metadata": {
        "colab_type": "code",
        "outputId": "00c8e0d0-0671-4334-c340-07642089779a",
        "id": "5ZpF64F1jhBg",
        "colab": {
          "base_uri": "https://localhost:8080/",
          "height": 310
        }
      },
      "source": [
        "fig, ax = plt.subplots()\n",
        "test.plot(ax=ax, label='True Data')\n",
        "predictions1.plot(ax=ax, label='Predicted Data')\n",
        "predictions2.plot(ax=ax, label='AIC-Selected')\n",
        "plt.legend()"
      ],
      "execution_count": 0,
      "outputs": [
        {
          "output_type": "execute_result",
          "data": {
            "text/plain": [
              "<matplotlib.legend.Legend at 0x7f19d6fd69e8>"
            ]
          },
          "metadata": {
            "tags": []
          },
          "execution_count": 171
        },
        {
          "output_type": "display_data",
          "data": {
            "image/png": "[encoded data removed]",
            "text/plain": [
              "<Figure size 432x288 with 1 Axes>"
            ]
          },
          "metadata": {
            "tags": []
          }
        }
      ]
    },
    {
      "cell_type": "markdown",
      "metadata": {
        "id": "tDzT9ztckKsR",
        "colab_type": "text"
      },
      "source": [
        "## EVALUATING TIME SERIES & FORECAST ACCURACY"
      ]
    },
    {
      "cell_type": "markdown",
      "metadata": {
        "colab_type": "text",
        "id": "bTSV3xmSjhBe"
      },
      "source": [
        "### Evaluating Time Series\n",
        "- **Granger Causality Tests**: hypothesis test to determine if one time series is useful in forecasting another.\n",
        "    - Null hypothesis: \n",
        "        - In the case of two series, $y$ and $x$, the null hypothesis is that lagged values of $x$ do <em>not</em> explain variations in $y$.<br>\n",
        "In other words, it assumes that $x_t$ doesn’t Granger-cause $y_t$.\n",
        "\n",
        "- The stattools <tt><strong>grangercausalitytests</strong></tt> function offers four tests for granger non-causality of 2 timeseries\n",
        "\n",
        "`from statsmodels.tsa.stattools import grangercausalitytests`\n",
        "\n",
        "### Evaluating Forecast Accuracy\n",
        "- **Mean Absolute Error, Mean Squared Error, Root Mean Squared Error**\n",
        "    - A forecast method that minimizes the **MAE** will lead to **forecasts of the median**, while minimizing the **RMSE will lead to forecasts of the mean.**\n",
        "    \n",
        "- **AIC / BIC**\n",
        "    - Akaike Information Criterion (AIC)\n",
        "    - Bayesian Information Criterion (BIC)\n",
        "    \n",
        "The AIC evaluates a collection of models and estimates the quality of each model relative to the others. Penalties are provided for the number of parameters used in an effort to thwart overfitting. The lower the AIC and BIC, the better the model should be at forecasting.\n",
        "\n",
        "These functions are available as\n",
        "\n",
        "    from from statsmodels.tools.eval_measures import aic, bic"
      ]
    },
    {
      "cell_type": "markdown",
      "metadata": {
        "id": "MiVsZBzXjIpU",
        "colab_type": "text"
      },
      "source": [
        "# TIME SERIES FORECASTING WITH NEURAL NETWORKS IN  KERAS\n"
      ]
    },
    {
      "cell_type": "markdown",
      "metadata": {
        "id": "4zffECA2kfy4",
        "colab_type": "text"
      },
      "source": [
        "## MAKING A NEURAL NETWORK WITH TimeseriesGenerator\n"
      ]
    },
    {
      "cell_type": "markdown",
      "metadata": {
        "id": "GxNZuh4zjmWc",
        "colab_type": "text"
      },
      "source": [
        "\n",
        "### INPUT DATA\n",
        "- In order to use keras to forecast time series, data must be formatting a specific way.\n",
        "    - X and y will come from the SAME 1D sequence.\n",
        "        - X will contain a sliding window of a user-specified # of samples\n",
        "        - y will contain the NEXT timepoint after X\n",
        "- Use Keras's TimeSequence Generator:\n",
        "    - `from keras.preprocessing.sequence import TimeseriesGenerator`\n",
        "    - will generate the required X-sequences and y-labels AND will export it in the PROPER 3D FORMAT.\n",
        "\n",
        "```python\n",
        "from keras.preprocessing.sequence import TimeseriesGenerator\n",
        "# Create Generator for Training Data\n",
        "generator = TimeseriesGenerator(data=scaled_training_data, targets=scaled_training_data, length=n_input, batch_size=batch_size)\n",
        "```\n",
        "- **NOTE TO SELF RE: MORE X-FEATURES**\n",
        "    - It looks as thought I can feed in ALL of my stock market features as data (including price) and then targets will be JUST the price data.\n",
        "    \n"
      ]
    },
    {
      "cell_type": "markdown",
      "metadata": {
        "id": "fuMATx1Ik-gz",
        "colab_type": "text"
      },
      "source": [
        "### INSTANTIATING THE `TimeseriesGenerator` \n"
      ]
    },
    {
      "cell_type": "markdown",
      "metadata": {
        "id": "b_uJISQTk8VC",
        "colab_type": "text"
      },
      "source": [
        "   \n",
        "  \n",
        "```python\n",
        "from keras.preprocessing.sequence import TimeseriesGenerator\n",
        "\n",
        "# Let's redefine to get 12 months back and then predict the next month out\n",
        "n_input = 12\n",
        "n_features= 1\n",
        "batch_size = 1\n",
        "\n",
        "# Create Generator for Training Data\n",
        "generator = TimeseriesGenerator(scaled_train, scaled_train, length=n_input, batch_size=batch_size)\n",
        "\n",
        "# What does the first batch look like?\n",
        "X,y = generator[0]\n",
        "\n",
        "print(f'Given the Array: \\t(with shape={X.shape}) \\n{X.flatten()}')\n",
        "print(f'\\nPredict this y: \\n {y}')\n",
        "```\n",
        "\n",
        "#### NOTES ON CHOICE OF INPUT SIZES\n",
        "- `n_inputs` \n",
        "    - if you have clear seasonality, then have n_inupts>0 sesason\n",
        "        - larger number of inputs requires LARGER NEURAL NETWORK (and more time)\n",
        "- `n_features`\n",
        "    - how many columns you have\n",
        "    - usually 1 for timeseries analysis\n",
        "- `batch_size`\n",
        "    - how many time series batches it produces\n",
        "    - for recurrent neural netwrork season data, 1 or super small is good. \n"
      ]
    },
    {
      "cell_type": "markdown",
      "metadata": {
        "id": "1UY30h97kzS_",
        "colab_type": "text"
      },
      "source": [
        "## SETTING UP & FITTING MODEL\n"
      ]
    },
    {
      "cell_type": "markdown",
      "metadata": {
        "id": "LNSjLQ1RkyDX",
        "colab_type": "text"
      },
      "source": [
        "\n",
        "  \n",
        "```python\n",
        "# More layers for model\n",
        "from keras.models import Sequential\n",
        "from keras.layers import Dense\n",
        "from keras.layers import LSTM\n",
        "\n",
        "# define model\n",
        "model = Sequential()\n",
        "model.add(LSTM(100, activation='relu', input_shape=(n_input, n_features)))\n",
        "model.add(Dense(1))\n",
        "model.compile(optimizer='adam', loss='mse')\n",
        "model.summary()\n",
        "\n",
        "# fit model\n",
        "model.fit_generator(generator,epochs=10,verbose=0)\n",
        "\n",
        "```\n",
        "### Using `callbacks` - EarlyStopping & ModelCheckpoint\n",
        "* A `ModelCheckpoint` that saves the best weights for our model at any given time inside an `hdf5` file. This way, if our model's performance starts to degrade at any point, we can always reload the weights from a snapshot of when it had the best possible performance. \n",
        "\n",
        "* An `EarlyStopping` checkpoint, which will stop the training early if the model goes for a certain number of epochs without any progress. \n",
        "from keras.callbacks import ModelCheckpoint\n",
        "from keras.callbacks import EarlyStopping\n",
        "\n",
        " For more information on the checkpoints we've created, see the [Keras callbacks documentation](https://keras.io/callbacks/#earlystopping).\n",
        " \n",
        " \n",
        " ```python\n",
        "from keras.callbacks import ModelCheckpoint\n",
        "from keras.callbacks import EarlyStopping\n",
        "\n",
        "# specify filepath for checkpoint saving\n",
        "checkpoints_path = 'weights_base.best.hdf5'\n",
        "checkpoint = ModelCheckpoint(checkpoints_path, monitor='val_loss', verbose=1, save_best_only=True, mode='min')\n",
        "\n",
        "# specify criteria for early stopping\n",
        "early_stopping = EarlyStopping(monitor='val_loss', mode='min', patience=25)\n",
        "\n",
        "# combine callbacks into list\n",
        "callbacks = [checkpoint, early_stopping]\n",
        "\n",
        "# add callbacks to the model`.fit()`\n",
        "model.fit(X_t, y, batch_size=32, epochs=1, validation_split=0.1, callbacks=callbacks) \n",
        "```\n",
        "\n",
        "\n",
        "### Using your own loss functions \n",
        "\n",
        "```python\n",
        "def my_rmse(y_true,y_pred):\n",
        "    \"\"\"RMSE calculation using keras.backend\"\"\"\n",
        "    from keras import backend as kb\n",
        "    sq_err = kb.square(y_pred - y_true)\n",
        "    mse = kb.mean(sq_err,axis=-1)\n",
        "    rmse =kb.sqrt(mse)\n",
        "    return rmse\n",
        "\n",
        "# add to the model`.compile()`\n",
        "model.compile(loss=my_rmse, optimizer='adam', metrics=['acc', myrmse])#,my_rmse])#,my_rmse])#,metrics=['acc'])optimizer='adam',\n",
        "\n",
        "```"
      ]
    },
    {
      "cell_type": "markdown",
      "metadata": {
        "id": "pLo3NlDikn96",
        "colab_type": "text"
      },
      "source": [
        "### EVALUATING MODEL\n",
        "- metrics from modeling are stored in `model.history.history`\n",
        "```python\n",
        "loss_per_epoch = model.history.history['loss']\n",
        "print('Loss per epoch: ',loss_per_epoch)\n",
        "plt.plot(range(len(loss_per_epoch)),loss_per_epoch);\n",
        "```\n",
        "#### NOTES ON SHAPE OF EVAL BATCH\n",
        "- Need to match the 3 dimension shape of the input from the generator\n",
        "\n",
        "```python\n",
        "first_eval_batch = scaled_train[-n_input:]\n",
        "current_batch = first_eval_batch.reshape((1, n_input, n_features))\n",
        "```\n",
        "\n"
      ]
    },
    {
      "cell_type": "markdown",
      "metadata": {
        "id": "RM9nfMvWkpzH",
        "colab_type": "text"
      },
      "source": [
        "## NOTES ON FORECASTING INTO FUTURE\n"
      ]
    },
    {
      "cell_type": "markdown",
      "metadata": {
        "id": "Nxby4AFf9Tpq",
        "colab_type": "text"
      },
      "source": [
        "\n",
        "- Loop to get next prediction based on current eval_batch\n",
        "- Append prediction to next eval batch and drop the oldest value in the current eval_batch\n",
        "- To predict into the TRUE FUTURE, extend the `for i in range(len(test)):` line\n",
        "    - replace range(len(test)) with however far you want to predict.\n",
        "    - Data will get _much noisier_ farther out into TRUE future.\n",
        "\n",
        "```python\n",
        "test_predictions = []\n",
        "\n",
        "# GETTING THE FIRST EVAL PATCH AND RESHAPING TO MATCH INPUT\n",
        "first_eval_batch = scaled_train[-n_input:]\n",
        "current_batch = first_eval_batch.reshape((1, n_input, n_features))\n",
        "\n",
        "# LOOP THROUGH ALL TEST DATA\n",
        "for i in range(len(test)):\n",
        "    \n",
        "    # get prediction 1 time stamp ahead ([0] is for grabbing just the number instead of [array])\n",
        "    current_pred = model.predict(current_batch)[0] \n",
        "    \n",
        "    # store prediction\n",
        "    test_predictions.append(current_pred) \n",
        "    \n",
        "    # UPDATE BATCH TO INCLUDE CURRENT PREDICTION AND DROP OLDEST VALUE FROM ARRAY\n",
        "    current_batch = np.append(current_batch[:,1:,:],[[current_pred]],axis=1) # axis===ndim\n",
        "\n",
        "print(test_predictions)\n",
        "\n",
        "display(scaled_test)\n",
        "```"
      ]
    },
    {
      "cell_type": "markdown",
      "metadata": {
        "id": "5YWapB2Tla6X",
        "colab_type": "text"
      },
      "source": [
        "# MOD 3 LEARN.CO  CONTINUED"
      ]
    },
    {
      "cell_type": "markdown",
      "metadata": {
        "id": "SxOEe8L2UhFq",
        "colab_type": "text"
      },
      "source": [
        "# Distance Metrics & k-Nearest Neighbors\n"
      ]
    },
    {
      "cell_type": "markdown",
      "metadata": {
        "id": "_L67aVcrnFEw",
        "colab_type": "text"
      },
      "source": [
        "### Distance Metrics:\n",
        "Distance helps us quantity similarity.\n",
        "Distance can be measured in different metrics.\n",
        "1. Manhattan Distance\n",
        "    - Movement by X/Y blocks.\n",
        "    - $d(x,y) =  \\sum_{k=1}^n |x_k - y_k|$\n",
        "        \n",
        "    <img src=\"https://www.dropbox.com/s/0q217qlbc9xtb7t/manhattan-distance.png?raw=1\" width=200>\n",
        "2. Euclidian/Pythagorean Distance\n",
        "    - Straight line (as-the-bird flies)\n",
        "    - $d(x,y) = \\sqrt{ \\sum_{k=1}^n  (x_k - y_k)^2)}$\n",
        "    \n",
        "    <img src=\"https://www.dropbox.com/s/h3ogtkukgp6pwin/euclidean-distance.png?raw=1\" width=250>\n",
        "    \n",
        "3. Minkowski distance\n",
        "    - Generalized distance metric across a _Normed Vector Space_. \n",
        "        - Meaning each point has been through the same function.  Can be any function as long as:\n",
        "            - A zero vector(just a vecotr of zeros) will output length=0\n",
        "            - Every other vector has positive length.\n",
        "        - Both Manhattan and Euclidian are actually special cases of Minkowski\n",
        "    - $d(p,q) = (\\sum_{i=1}^n (|p_i - q_i|)^c)^{1/c}$\n",
        "    \n",
        "    \n",
        "    \n",
        "```python \n",
        "# Manhattan Distance is the sum of all side lengths to the first power\n",
        "manhattan_distance = (length_side_1 + length_side2 + ... length_side_n)**1  \n",
        "\n",
        "# Euclidean Distance is the square root of the sum of all side lengths to the second power\n",
        "euclidean_distance = np.sqrt((length_side_1 + length_side2 + ... length_side_n)*2)\n",
        "\n",
        "# Minkowski Distance with a value of 3 would be the cube root of the sum of all side lengths to the third power\n",
        "minkowski_distance_3 = np.cbrt((length_side_1 + length_side2 + ... length_side_n)**3)\n",
        "\n",
        "# Minkowski Distance with a value of 5\n",
        "mink_distance_5 = np.power((length_side_1 + length_side2 + ... length_side_n)**5, 1./5)\n",
        "```\n",
        "\n",
        "\n",
        "### K-Nearest Neighbors (KNN)\n",
        "<img src=\"https://www.dropbox.com/s/77747858h369yzx/knn.gif?raw=1\" width=500>\n",
        "- **KNN is a supervised learning algorithm that can be used for both classification and regression.**\n",
        "    - Distance-based, looks for the smaller distance between 2 points to identify similarity. \n",
        "        - Each column acts as a dimension. \n",
        "        - Can use any of the distance metrics discussed\n",
        "    - since its supervised, must give it labeled training data. \n",
        "    \n",
        "- **Fitting**\n",
        "    - KNN does very little during the fit step, just stores the data and labels.\n",
        "- **Predicting**\n",
        "    - For each point, KNN calculates the distances to _every single point_ int he training set. \n",
        "    - It then finds the ```k``` closest neighbors, and examines their labels.\n",
        "        - its 'democratic', in that each of the nearest points submits a vote as to which group it should belong to.\n",
        "        - the group with the largest # of votes win. \n",
        "- **Evaluating Model Performance**\n",
        "    - Evaluation is different depending on if using for classification or regression task.\n",
        "    - Need a test set of data to compare its predicitons against to calc:\n",
        "        - Precision\n",
        "        - Recall\n",
        "        - Accuracy\n",
        "        - F1-Score"
      ]
    },
    {
      "cell_type": "markdown",
      "metadata": {
        "id": "fagDue4O1_gC",
        "colab_type": "text"
      },
      "source": [
        "#### Confusion Matrices - to Evaluate Classification\n",
        "For Example, using simply binary classification 0 or 1. \n",
        "<img src=\"https://www.dropbox.com/s/1kt3vniy7h1vodw/rf-conf-matrix.png?raw=1\" width=300>\n",
        "\n",
        "    \n",
        "- **Confusion Matrices tell us 4 things:**\n",
        "    - True Positives (TP): The model predicted the person has the disease (1), and they actually have the disease (1).\n",
        "\n",
        "    - True Negatives (TN): The model predicted the person is healthy (0), and they are actually healthy (0).\n",
        "\n",
        "    - False Positives (FP): The model predicted the person has the disease (1), but they are actually healthy (0). \n",
        "\n",
        "    - False Negatives (FN): The model predicted the person is healthy (0), but they actually have the disease (1).\n",
        "\n",
        "- **To construct a confusion matrix, we need:**\n",
        "    -  Predicitons for each data point in training or test set\n",
        "    - Labels for same data points in that test set.\n",
        "    \n",
        "- To create a Confusion Matrix from scratch, we:\n",
        "    1. Iterate through both lists and grab the item at the same the label and corresponding prediction.  \n",
        "        - Note that `enumerate` is great here, since it gives us both an item and the index of that item from a list. \n",
        "    2. Use some control flow to determine if its a TP, TN, FP, or FN. \n",
        "    3. Store our results in a dictionary or 2-dimensional array. \n",
        "    4. Return our results once we've checked every prediction against its corresponding label. \n",
        "    \n",
        "```python\n",
        "def confusion_matrix(labels, predictions):\n",
        "    conf_matrix = {\"TP\": 0, \"FP\": 0, \"TN\": 0, \"FN\": 0}\n",
        "    for ind, label in enumerate(labels):\n",
        "        pred = predictions[ind]\n",
        "        if label == 1:\n",
        "            # CASE: True Positive\n",
        "            if label == pred:\n",
        "                conf_matrix['TP'] += 1\n",
        "            # CASE: False Negative \n",
        "            else:\n",
        "                conf_matrix['FN'] += 1\n",
        "        else:\n",
        "            # CASE: True Negative\n",
        "            if label == pred:\n",
        "                conf_matrix['TN'] += 1\n",
        "            # CASE: False Positive\n",
        "            else:\n",
        "                conf_matrix['FP'] += 1\n",
        "    \n",
        "    return conf_matrix\n",
        "```\n",
        "\n",
        "- **Confusion Matrices for Multi-Categorical Classificaitons:**\n",
        "    - Diagonal represents true positives\n",
        "\n",
        "<img src=\"https://www.dropbox.com/s/qgy3t90fyxztjni/cm2.png?raw=1\" width=400>\n",
        "\n",
        "\n",
        "#### Confusion Matrices with sklearn\n",
        "- A nice positive of sklearn's implementation:\n",
        "    - it automatically adjusts to the# of categories present in the labels.\n",
        "    \n",
        "```python\n",
        "# Calcualate confusion matrix\n",
        "from sklearn.metrics import confusion_matrix\n",
        "cf = confusion_matrix(example_labels, example_preds)\n",
        "\n",
        "# Plot confusion matrix with matplotlib\n",
        "import numpy as np\n",
        "import itertools\n",
        "import matplotlib.pyplot as plt\n",
        "% matplotlib inline\n",
        "\n",
        "def show_cf(y_true, y_pred, class_names=None, model_name=None):\n",
        "    cf = confusion_matrix(y_true, y_pred)\n",
        "    plt.imshow(cf, cmap=plt.cm.Blues)\n",
        "    \n",
        "    if model_name:\n",
        "        plt.title(\"Confusion Matrix: {}\".format(model_name))\n",
        "    else:\n",
        "        plt.title(\"Confusion Matrix\")\n",
        "    plt.ylabel('True Label')\n",
        "    plt.xlabel('Predicted Label')\n",
        "    \n",
        "    class_names = set(y_true)\n",
        "    tick_marks = np.arange(len(class_names))\n",
        "    if class_names:\n",
        "        plt.xticks(tick_marks, class_names)\n",
        "        plt.yticks(tick_marks, class_names)\n",
        "    \n",
        "    thresh = cf.max() / 2.\n",
        "    \n",
        "    for i, j in itertools.product(range(cf.shape[0]), range(cf.shape[1])):\n",
        "        plt.text(j, i, cf[i, j], horizontalalignment='center', color='white' if cf[i, j] > thresh else 'black')\n",
        "\n",
        "    plt.colorbar()\n",
        "\n",
        "show_cf(example_labels, example_preds)\n",
        "```\n",
        "\n",
        "\n"
      ]
    },
    {
      "cell_type": "markdown",
      "metadata": {
        "id": "nKjAFwz12Oeb",
        "colab_type": "text"
      },
      "source": [
        "### Evaluation Metrics [BOOKMARK]\n",
        "- **Precision**\n",
        "$$Precision = \\frac{\\text{Number of True Positives}}{\\text{Number of Predicted Positives}}$$\n",
        "\n",
        "- Confusion Matrix: \n",
        "$$ Precision =\n",
        "\n",
        "- **Recall**\n",
        "$$Recall = \\frac{\\text{Number of True Positives}}{\\text{Number of Actual Total Positives}}$$ \n",
        "\n",
        " Precision and Recall have an inverse relationship.  As our recall goes up, our precision will go down, and vice versa. If this doesn't seem intuitive, let's examine this.\n",
        " \n",
        "<img src=\"https://www.dropbox.com/s/p7yy1t34lx9k82j/Precisionrecall.png?raw=1\" width=400>\n",
        "\n",
        "\n",
        "- **Accuracy**\n",
        "\n",
        "$$Accuracy = \\frac{\\text{Number of True Positives + True Negatives}}{\\text{Total Observations}}$$\n",
        "\n",
        "- **F-1 Score**\n",
        "\n",
        "$$F1-Score = 2\\ \\frac{Precision\\ x\\ Recall}{Precision + Recall}$$\n",
        "\n",
        "\n",
        "- **How to decide which metric to use?**\n",
        "    - Its going to vary by question/field. \n",
        "    - When in doubt calculate them all.\n"
      ]
    },
    {
      "cell_type": "code",
      "metadata": {
        "id": "r3ihBVCy_JYE",
        "colab_type": "code",
        "colab": {}
      },
      "source": [
        ""
      ],
      "execution_count": 0,
      "outputs": []
    },
    {
      "cell_type": "markdown",
      "metadata": {
        "id": "1D7nK5qU_M7X",
        "colab_type": "text"
      },
      "source": [
        "## Graph Theory\n",
        "\n",
        ">A \"Graph\" in mathematical and computer science terms consists of \"Nodes\" or \"Vertices\". Nodes/Vertices may or may not be connected with one another. The connecting line between two nodes is called an \"edge\". \n",
        "\n",
        "- Linked Refs:\n",
        "    - [Graph Theory Basics](https://www.geeksforgeeks.org/mathematics-graph-theory-basics-set-1/)\n",
        "    - [A Gentle Intro to Graph Theory](https://medium.com/basecs/a-gentle-introduction-to-graph-theory-77969829ead8)"
      ]
    },
    {
      "cell_type": "markdown",
      "metadata": {
        "id": "-Eok_IyvDsEV",
        "colab_type": "text"
      },
      "source": [
        "### Graph Components  and Characteristics\n",
        "\n",
        "<img src=\"https://www.dropbox.com/s/s73t4jezg0wz6ml/Nodes%20and%20Edges.png?raw=1\" width =250>\n",
        "\n",
        "- **Basic Pieces of a Graph**\n",
        "    - __Node / Vertex__: The entity of analysis which has a relationship. \n",
        "        Node is used in the network context, vertex is used in the graph theory context, but commonly interchanged.\n",
        "\n",
        "    - __Link / Edge / Relationship__: The connections between the nodes.\n",
        "        Link is used in the network context, edge is used in the graph theory context, and all words are used interchangably with *relationship*.\n",
        "\n",
        "    - __Attributes__: Both nodes and edges can store attributes, which contain additional data about that object.\n",
        "\n",
        "    - __Weight__: A common *attribute* of edges, used to indicate *strength* or *value* of a relationship.\n",
        "\n",
        "- **Terminology**\n",
        "    - Adjacent Nodes:\n",
        "        - Node v is adjacent to node u if and only if there exists an edge between u and v.\n",
        "\n",
        "    - Path:\n",
        "        - A path of length n from node u to note v is defined as sequence of n+1 nodes.\n",
        "        $$P(u,v)=(v0,v1,v2,v3…….vn)$$\n",
        "   \n",
        "    - Degree of a node:\n",
        "        - In undirected graph\n",
        "            - A node's **degree** is the  # of nodes 'incident upon' the node. (AKA connected).\n",
        "        - In a directed graph,\n",
        "            - a node's **Indegree** is the # of arriving edges to the node\n",
        "            - **Outdegree** is the # of departing edges. \n",
        "    - Isolated Nodes\n",
        "        - Have no connection (degree=0)\n",
        "        - Isolated nodes cannot be found by _breadth first search_ (BFS)\n",
        "        \n",
        "<img src=\"https://www.dropbox.com/s/6ssw6smhwsntktw/deg.png?raw=1\" width=500>    \n",
        "\n",
        "- **Graph Thoery Summary**\n",
        "\n",
        "<img src=\"https://www.dropbox.com/s/g5sxt0udv7wkbck/summary.png?raw=1\" width=700>\n",
        "\n",
        "\n",
        "|                | Absent     | Present  |\n",
        "|----------------|------------|----------|\n",
        "| __Weights__ | Unweighted | Weighted |\n",
        "| __Directionality__ | Undirected | Directed |\n"
      ]
    },
    {
      "cell_type": "code",
      "metadata": {
        "id": "enWz0R4Q_Pn1",
        "colab_type": "code",
        "colab": {}
      },
      "source": [
        ""
      ],
      "execution_count": 0,
      "outputs": []
    },
    {
      "cell_type": "markdown",
      "metadata": {
        "id": "I5SD1E9fIFUl",
        "colab_type": "text"
      },
      "source": [
        "### Graphs in Python with NetworkX\n"
      ]
    },
    {
      "cell_type": "markdown",
      "metadata": {
        "id": "XRnizX_8M-KG",
        "colab_type": "text"
      },
      "source": [
        "## Model Evaluation \n",
        "- Prec"
      ]
    },
    {
      "cell_type": "markdown",
      "metadata": {
        "id": "HNU6AIlKM2EG",
        "colab_type": "text"
      },
      "source": [
        "## Logistic Regression\n",
        "\n",
        "-"
      ]
    },
    {
      "cell_type": "code",
      "metadata": {
        "id": "2Lm2sa2iM0na",
        "colab_type": "code",
        "colab": {}
      },
      "source": [
        ""
      ],
      "execution_count": 0,
      "outputs": []
    },
    {
      "cell_type": "markdown",
      "metadata": {
        "id": "kSyLc65KUlYa",
        "colab_type": "text"
      },
      "source": [
        "# Decision Trees (Sect 31-32)\n"
      ]
    },
    {
      "cell_type": "markdown",
      "metadata": {
        "id": "ynWFeOP9HRMN",
        "colab_type": "text"
      },
      "source": [
        "## PAC Learning Theory\n",
        "<img src=\"https://raw.githubusercontent.com/jirvingphd/dsc-3-31-02-introduction-to-PAC-learning-theory-online-ds-ft-021119/master/pac1.png\" width=300 justify='middle'>\n",
        "> The PAC is a learning models which is characterized by __learning from examples__. \n",
        "\n",
        "- Consider $f$ as the target function to be __learnt__,<br> the __learner__ (the computational model) is provided with some random examples<br> in the form of $(X,f(X))$.\n",
        "\n",
        "    - Here, $X$ is a binary input instance of length $n$, and $f(X)$ is the value (boolean TRUE or FALSE) of the target function at that instance. \n",
        "\n",
        "- The __learner must succeed__ in deducing the target function $f$:\n",
        "\n",
        "$$f : [0, 1]^n → {0, 1}$$. \n",
        "\n"
      ]
    },
    {
      "cell_type": "markdown",
      "metadata": {
        "id": "TZl3LBmUIj01",
        "colab_type": "text"
      },
      "source": [
        "> __PAC learning approach places an upper bound on the probability of error by placing a lower bound on the number\n",
        "of examples required to learn the target function.__\n",
        "\n",
        "- PAC gives \n",
        "    - an upper bound on the error in accuracy with which h approximates f and \n",
        "    - the probability of failure in achieving this accuracy. \n",
        "\n",
        "With these quantities, we an express the definition of a PAC Algorithm with more mathematical clarity. \n",
        "\n",
        "> __For PAC Learnability, the learner must find a concept $h$ such that the error between $h$ and $f$ with acceptable range with a predefined level of confidence.__ \n",
        "\n",
        "\n",
        "__There is some probability distribution $D$, defined in the sample sample $[0,1]|^n$ giving probability of each example.__ \n",
        "\n",
        "The distribution $D$, conveniently and mathematically quantifies the error with which $h$ approximates $f$ as shown below:\n",
        "\n",
        "$$err(h, f) ≡ P_{x∈D}(h(x) \\neq f(x))$$\n",
        "\n",
        "$P_{x∈D}$ reflects the probabilities are taken with respect to random draws over $D$ __only__."
      ]
    },
    {
      "cell_type": "markdown",
      "metadata": {
        "id": "UO0fjX1vUZb8",
        "colab_type": "text"
      },
      "source": [
        ""
      ]
    },
    {
      "cell_type": "markdown",
      "metadata": {
        "id": "TMph0CSOJ-p9",
        "colab_type": "text"
      },
      "source": [
        "## Entropy\n",
        "if we have a sample containing $N$ items falling into two categories, $n$ observations having a target=1 and $m=N-n$ observations will have a target label 2. \n",
        "\n",
        "So what we want to do is group these observations according to the target class they belong to. We can write \n",
        "down the ratio of each class as:\n",
        "\n",
        "\n",
        "$$p = n/N - (class 1)$$ $$q = m/N = 1-p - (class 2)$$\n",
        "\n",
        "Based on this , the entropy of the complete dataset, before the split is calculated as:\n",
        "\n",
        "$$E = -p . log_2(p) - q . log_2(q)$$\n",
        "\n",
        "Above equation tells us that according to entropy law, a dataset is considered tidy if it only contains one class (i.e. no uncertainty or confusion). If there is a mix of classes in the target variable , the entropy (or uncertainty about data) goes high.\n",
        "\n",
        "### Generalization of Entropy\n",
        "<img src=\"https://raw.githubusercontent.com/jirvingphd/dsc-3-31-04-entropy-information-gain-online-ds-ft-021119/master/entg.jpeg\" width=800>"
      ]
    },
    {
      "cell_type": "markdown",
      "metadata": {
        "id": "dlX47NmsBJj9",
        "colab_type": "text"
      },
      "source": [
        "### Information Gain\n",
        "$$Information~Gain  = Entropy_{parent} - Entropy_{child}.[child ~weighted ~average]$$\n",
        "\n",
        "<img src='https://raw.githubusercontent.com/learn-co-students/dsc-3-31-04-entropy-information-gain-online-ds-ft-021119/master/data.jpeg' width=150>\n",
        "\n",
        "<img src=\"https://raw.githubusercontent.com/jirvingphd/dsc-3-31-04-entropy-information-gain-online-ds-ft-021119/master/IG.jpeg\" width=1000>\n",
        "\n",
        "\n",
        "#### Example of Entropy and Infromation gain\n",
        "**Predicting if the game will be played**\n",
        "\n",
        "**1. Calc Overall Entropy**<br>\n",
        "<img src=\"https://raw.githubusercontent.com/jirvingphd/dsc-3-31-04-entropy-information-gain-online-ds-ft-021119/master/ex1.jpeg\" width =300><br>\n",
        "**2.Calc Entropy and Information Gain for All Attributes**\n",
        "<img src=\"https://raw.githubusercontent.com/jirvingphd/dsc-3-31-04-entropy-information-gain-online-ds-ft-021119/master/calc.jpeg\" width=800>\n",
        "\n",
        "\n",
        "<img src=\"https://raw.githubusercontent.com/learn-co-students/dsc-3-31-04-entropy-information-gain-online-ds-ft-021119/master/split.jpeg\" width=500>\n",
        "\n",
        "<img src=\"https://raw.githubusercontent.com/learn-co-students/dsc-3-31-04-entropy-information-gain-online-ds-ft-021119/master/split2.jpeg\" width=800>\n",
        "\n",
        "\n",
        "\n",
        "<img src=\"https://raw.githubusercontent.com/learn-co-students/dsc-3-31-04-entropy-information-gain-online-ds-ft-021119/master/final.jpeg\" width=800>"
      ]
    },
    {
      "cell_type": "markdown",
      "metadata": {
        "id": "kiPn5zA1PZnD",
        "colab_type": "text"
      },
      "source": [
        "## How to visualize trees with graph_viz\n",
        "- From Building Trees using scikit-learn\n",
        "\n",
        "- Important code below, followed by entire code to show example \n",
        "\n",
        "```python\n",
        "# Requried for visualization:\n",
        "from sklearn.externals.six import StringIO\n",
        "from IPython.display import Image\n",
        "from sklearn.tree import export_graphviz\n",
        "import pydotplus\n",
        "\n",
        "# Tree creation code excluded...\n",
        "\n",
        "# Visualize the tree trained from complete dataset\n",
        "dot_data = StringIO()\n",
        "export_graphviz(clf2, out_file=dot_data, filled=True, rounded=True,special_characters=True)\n",
        "graph = pydotplus.graph_from_dot_data(dot_data.getvalue())  \n",
        "Image(graph.create_png())\n",
        "```"
      ]
    },
    {
      "cell_type": "markdown",
      "metadata": {
        "id": "WsY5e6ceRIv2",
        "colab_type": "text"
      },
      "source": [
        "- **To import csv from git**\n",
        "\n",
        "```python\n",
        "# Import csv from git ----------------------------------------------- #\n",
        "import pandas as pd\n",
        "import io\n",
        "import requests\n",
        "url = 'https://raw.githubusercontent.com/jirvingphd/dsc-3-31-06-decision-tree-scikitlearn-codealong-online-ds-ft-021119/master/tennis.csv'\n",
        "s=requests.get(url).content\n",
        "df=pd.read_csv(io.StringIO(s.decode('utf-8')))\n",
        "df.head()\n",
        "\n",
        "```"
      ]
    },
    {
      "cell_type": "markdown",
      "metadata": {
        "id": "2114HLXUS5XS",
        "colab_type": "text"
      },
      "source": [
        "### Building Trees with sklearn - lesson"
      ]
    },
    {
      "cell_type": "code",
      "metadata": {
        "id": "0Gf2ZrLZPZVl",
        "colab_type": "code",
        "outputId": "e78f2d16-18e5-4685-82ae-63f1e250ac14",
        "colab": {
          "base_uri": "https://localhost:8080/",
          "height": 196
        }
      },
      "source": [
        "# Basic imports\n",
        "import pandas as pd\n",
        "import numpy as np\n",
        "\n",
        "# Decision Tree And Accuracy Metrics \n",
        "from sklearn.model_selection import train_test_split\n",
        "from sklearn.tree import DecisionTreeClassifier\n",
        "from sklearn.metrics import accuracy_score, roc_curve, auc\n",
        "from sklearn import tree\n",
        "\n",
        "# Preprocessing and LabelEncoder\n",
        "import sklearn.preprocessing as preprocessing\n",
        "from sklearn.preprocessing import LabelEncoder\n",
        "\n",
        "# Requried for visualization:\n",
        "from sklearn.externals.six import StringIO\n",
        "from IPython.display import Image\n",
        "from sklearn.tree import export_graphviz\n",
        "import pydotplus\n",
        "\n",
        "# Import csv from git ----------------------------------------------- #\n",
        "import pandas as pd\n",
        "import io\n",
        "import requests\n",
        "url = 'https://raw.githubusercontent.com/jirvingphd/dsc-3-31-06-decision-tree-scikitlearn-codealong-online-ds-ft-021119/master/tennis.csv'\n",
        "s=requests.get(url).content\n",
        "\n",
        "df=pd.read_csv(io.StringIO(s.decode('utf-8')))\n",
        "# df.head()"
      ],
      "execution_count": 0,
      "outputs": [
        {
          "output_type": "execute_result",
          "data": {
            "text/html": [
              "<div>\n",
              "<style scoped>\n",
              "    .dataframe tbody tr th:only-of-type {\n",
              "        vertical-align: middle;\n",
              "    }\n",
              "\n",
              "    .dataframe tbody tr th {\n",
              "        vertical-align: top;\n",
              "    }\n",
              "\n",
              "    .dataframe thead th {\n",
              "        text-align: right;\n",
              "    }\n",
              "</style>\n",
              "<table border=\"1\" class=\"dataframe\">\n",
              "  <thead>\n",
              "    <tr style=\"text-align: right;\">\n",
              "      <th></th>\n",
              "      <th>outlook</th>\n",
              "      <th>temp</th>\n",
              "      <th>humidity</th>\n",
              "      <th>windy</th>\n",
              "      <th>play</th>\n",
              "    </tr>\n",
              "  </thead>\n",
              "  <tbody>\n",
              "    <tr>\n",
              "      <th>0</th>\n",
              "      <td>sunny</td>\n",
              "      <td>hot</td>\n",
              "      <td>high</td>\n",
              "      <td>False</td>\n",
              "      <td>no</td>\n",
              "    </tr>\n",
              "    <tr>\n",
              "      <th>1</th>\n",
              "      <td>sunny</td>\n",
              "      <td>hot</td>\n",
              "      <td>high</td>\n",
              "      <td>True</td>\n",
              "      <td>no</td>\n",
              "    </tr>\n",
              "    <tr>\n",
              "      <th>2</th>\n",
              "      <td>overcast</td>\n",
              "      <td>hot</td>\n",
              "      <td>high</td>\n",
              "      <td>False</td>\n",
              "      <td>yes</td>\n",
              "    </tr>\n",
              "    <tr>\n",
              "      <th>3</th>\n",
              "      <td>rainy</td>\n",
              "      <td>mild</td>\n",
              "      <td>high</td>\n",
              "      <td>False</td>\n",
              "      <td>yes</td>\n",
              "    </tr>\n",
              "    <tr>\n",
              "      <th>4</th>\n",
              "      <td>rainy</td>\n",
              "      <td>cool</td>\n",
              "      <td>normal</td>\n",
              "      <td>False</td>\n",
              "      <td>yes</td>\n",
              "    </tr>\n",
              "  </tbody>\n",
              "</table>\n",
              "</div>"
            ],
            "text/plain": [
              "    outlook  temp humidity  windy play\n",
              "0     sunny   hot     high  False   no\n",
              "1     sunny   hot     high   True   no\n",
              "2  overcast   hot     high  False  yes\n",
              "3     rainy  mild     high  False  yes\n",
              "4     rainy  cool   normal  False  yes"
            ]
          },
          "metadata": {
            "tags": []
          },
          "execution_count": 10
        }
      ]
    },
    {
      "cell_type": "code",
      "metadata": {
        "id": "BdrVJiKfHklp",
        "colab_type": "code",
        "colab": {}
      },
      "source": [
        "lb=LabelEncoder()\n",
        "# Make labels for each series\n",
        "df['play_'] = lb.fit_transform(df['play'])\n",
        "df['outlook_'] = lb.fit_transform(df['outlook'])\n",
        "df['temp_'] = lb.fit_transform(df['temp'])\n",
        "df['humidity_'] = lb.fit_transform(df['humidity'])\n",
        "df['windy_'] = lb.fit_transform(df['windy'])\n",
        "\n",
        "# Make X, Y out of labeled series\n",
        "X =  df[['outlook_','temp_','humidity_','windy_']]\n",
        "Y = df['play_']\n",
        "\n",
        "# One hot encode X \n",
        "enc = preprocessing.OneHotEncoder()\n",
        "enc.fit(X)\n",
        "onehotX = enc.transform(X).toarray()\n",
        "\n",
        "# Create training and test set\n",
        "X_train, X_test, y_train, y_test = train_test_split(onehotX, Y, test_size=0.3, random_state=10)\n",
        "\n",
        "# Train the decision tree\n",
        "clf = DecisionTreeClassifier(criterion='entropy')\n",
        "clf.fit(X_train, y_train)\n",
        "y_pred = clf.predict(X_test)"
      ],
      "execution_count": 0,
      "outputs": []
    },
    {
      "cell_type": "code",
      "metadata": {
        "id": "cX_ZEDSnSTX0",
        "colab_type": "code",
        "outputId": "f1846e54-9422-4842-a7cf-55316703a394",
        "colab": {
          "base_uri": "https://localhost:8080/",
          "height": 67
        }
      },
      "source": [
        "# Calculate accuracy\n",
        "acc = accuracy_score(y_test,y_pred)*100\n",
        "print(\"Accuracy is :{0}\".format(acc))\n",
        "\n",
        "# Check the AUC for predictions \n",
        "falst_positive_rate, true_positive_rate,thresholds = roc_curve(y_test, y_pred)\n",
        "roc_auc = auc(falst_positive_rate, true_positive_rate)\n",
        "print(\"\\nAUC is :{0}\".format(round(roc_auc,2)))\n",
        "\n",
        "# # Create and print a confusion matrix \n",
        "# print('\\nConfusion Matrix')\n",
        "# print('----------------')\n",
        "# # pd.crosstab(y_test, y_pred, rownames=['True'],colnames=['Predicted'],margins=True)"
      ],
      "execution_count": 0,
      "outputs": [
        {
          "output_type": "stream",
          "text": [
            "Accuracy is :80.0\n",
            "\n",
            "AUC is :0.88\n"
          ],
          "name": "stdout"
        }
      ]
    },
    {
      "cell_type": "code",
      "metadata": {
        "id": "on4HmXy1SZpT",
        "colab_type": "code",
        "outputId": "690e5496-31ff-4ebd-89d4-47658943a0e3",
        "colab": {
          "base_uri": "https://localhost:8080/",
          "height": 632
        }
      },
      "source": [
        "\n",
        "# Visualize the tree trained from complete dataset\n",
        "dot_data = StringIO()\n",
        "export_graphviz(clf, out_file=dot_data, filled=True, rounded=True,special_characters=True)\n",
        "graph = pydotplus.graph_from_dot_data(dot_data.getvalue())  \n",
        "Image(graph.create_png())"
      ],
      "execution_count": 0,
      "outputs": [
        {
          "output_type": "execute_result",
          "data": {
            "image/png": "[encoded data removed]",
            "text/plain": [
              "<IPython.core.display.Image object>"
            ]
          },
          "metadata": {
            "tags": []
          },
          "execution_count": 14
        }
      ]
    },
    {
      "cell_type": "markdown",
      "metadata": {
        "id": "-m8aRL5k5JQE",
        "colab_type": "text"
      },
      "source": [
        "### Pruning Trees / Hyperparameter Tuning\n",
        "We can prune our trees using the following parameters:\n",
        "\n",
        "- ```max_depth```\n",
        "\n",
        "    - Reduce the depth of the tree to build a generalized tree. Set the depth of the tree to 3, 5, 10 depending after verification on test data\n",
        "    - Too deep = overfitting, too shallow = underfitting\n",
        "    - Related to computational cost\n",
        "    - Try tuning this first. \n",
        "\n",
        "-  ```min_samples_split```\n",
        "    - Minimum Samples Leaf with Split`\n",
        "    - Restrict the size of sample leaf\n",
        "    - Related to computational cost\n",
        "\n",
        "- ```min_samples_leaf```\n",
        "    - Minimum Leaf Sample Size `\n",
        "\n",
        "    - Size in terminal nodes can be fixed to 30, 100, 300 or 5% of total\n",
        "\n",
        "- `Maximum Leaf Nodes`\n",
        "\n",
        "    - Reduce the number of leaf nodes\n",
        "\n",
        "- `Maximum Features`\n",
        "\n",
        "    - Maximum number of features to consider when splitting a node\n",
        "    \n",
        "    \n",
        "    \n",
        "#### Additional Resources \n",
        "- [Overview of Hyperparameter Tuning ](https://cloud.google.com/ml-engine/docs/tensorflow/hyperparameter-tuning-overview)\n",
        "- [Demystifying Hyperparameter Tuning](https://towardsdatascience.com/demystifying-hyper-parameter-tuning-acb83af0258f)\n",
        "- [Pruning Decision Trees](https://www.displayr.com/machine-learning-pruning-decision-trees/)\n"
      ]
    },
    {
      "cell_type": "markdown",
      "metadata": {
        "id": "61mI_GkTFc8G",
        "colab_type": "text"
      },
      "source": [
        "### My Code for Testing and Plotting hyperparameters\n",
        "\n",
        "```python\n",
        "\n",
        "def calc_roc_auc(X_test,y_test,dtc,verbose=False):\n",
        "    \"\"\"Tests the results of an already-fit classifer. \n",
        "    Takes X_test, y_test, classifer, verbose (True\" print result)\n",
        "    Returns the AUC for the roc_curve as a %\"\"\"\n",
        "    y_pred = dtc.predict(X_test)\n",
        "\n",
        "    FP_rate, TP_rate, thresh = roc_curve(y_test,y_pred)\n",
        "    roc_auc = auc(FP_rate,TP_rate)\n",
        "    roc_auc_perc = round(roc_auc*100,3)\n",
        "    # Your code here \n",
        "    if verbose:\n",
        "        print(f\"roc_curve's auc = {roc_auc_perc}%\")\n",
        "    return roc_auc_perc\n",
        "\n",
        "def tune_params(param_name, param_values):\n",
        "    \"\"\"Takes in param_name to tune with param_values, plots train vs test AUC's. \n",
        "    Returns df_results and df_style with color coded results\"\"\"\n",
        "    res_list = [[param_name,'train_roc_auc','test_roc_auc']]\n",
        "\n",
        "    # Loop through all values in param_values\n",
        "    for value in param_values:\n",
        "        # Create Model, set params\n",
        "        dtc_temp = DecisionTreeClassifier(criterion='entropy')\n",
        "        params={param_name:value}\n",
        "        dtc_temp.set_params(**params)\n",
        "\n",
        "        # Fit model\n",
        "        dtc_temp.fit(X_train, y_train)\n",
        "        \n",
        "        # Get roc_auc for training data\n",
        "        train_roc_auc = calc_roc_auc(X_train,y_train,dtc_temp)\n",
        "        # Get roc_auc for test data\n",
        "        test_res_roc_auc = calc_roc_auc(X_test,y_test,dtc_temp)\n",
        "        # Append value and results to res_list\n",
        "        res_list.append([value,train_roc_auc,test_res_roc_auc])\n",
        "\n",
        "    # Turn results into df_results (basically same as using list2df)\n",
        "    df_results = pd.DataFrame(res_list[1:],columns=res_list[0])\n",
        "    df_results.set_index(param_name,inplace=True)\n",
        "    \n",
        "    # Plot df_results\n",
        "    df_results.plot()\n",
        "        \n",
        "    # Color-coded dataframe s\n",
        "    import seaborn as sns\n",
        "    cm = sns.light_palette(\"green\", as_cmap=True)\n",
        "    df_syle = df_results.style.background_gradient(cmap=cm)#,low=results.min(),high=results.max())\n",
        "\n",
        "    return df_results, df_syle\n",
        "\n",
        "\n",
        "## How to use:\n",
        "# Identify the optimal tree depth for given data\n",
        "depths = np.array(range(1,33))\n",
        "param_name = 'max_depth'\n",
        "results, s = tune_params('max_depth',depths)\n",
        "s\n",
        "```"
      ]
    },
    {
      "cell_type": "markdown",
      "metadata": {
        "id": "IghsBUQROKWH",
        "colab_type": "text"
      },
      "source": [
        "## Regression with CART trees\n",
        "\n",
        ">The CART algorithm builds a *binary tree* in which every non-leaf node has exactly two children (corresponding to a yes/no answer). \n",
        "\n",
        "Given a set of training examples and their labels, the algorithm repeatedly splits the training examples $D$ into two subsets $D_{left}, D_{right}$ using some feature set $f$ and feature threshold $t_f$ such that samples with the same label are grouped together. \n",
        "\n",
        "At each node, the algorithm selects the split $\\theta = (f, t_f)$ that produces the smallest *mean squared error* (MSE) (alternatively, we could use the mean absolute error).\n",
        "\n",
        "So at each step, the algorithm selects the parameters $\\theta$ that minimize the following cost function:\n",
        "\n",
        "\\begin{equation}\n",
        "J(D, \\theta) = \\frac{n_{left}}{n_{total}} MSE_{left} + \\frac{n_{right}}{n_{total}} MSE_{right}\n",
        "\\end{equation}\n",
        "\n",
        "- $D$: remaining training examples   \n",
        "- $n_{total}$ : number of remaining training examples\n",
        "- $\\theta = (f, t_f)$: feature and feature threshold\n",
        "- $n_{left}/n_{right}$: number of samples in the left/right subset\n",
        "- $MSE_{left}/MSE_{right}$: MSE of the left/right subset\n",
        "\n",
        "This step is repeated recursively until the *maximum allowable depth* is reached or the current number of samples $n_{total}$ drops below some minimum number.\n",
        "\n",
        "#### Mean Squared Error (MSE)\n",
        "\n",
        "When performing regression with CART trees (i.e. the target values are continuous) we can evaluate a split using its MSE. The MSE of node $m$ is computed as follows:\n",
        "\n",
        "\\begin{equation}\n",
        "\\hat{y}_m = \\frac{1}{n_{m}} \\sum_{i \\in D_m} y_i\n",
        "\\end{equation}\n",
        "\\begin{equation}\n",
        "MSE_m = \\frac{1}{n_{m}} \\sum_{i \\in D_m} (y_i - \\hat{y}_m)^2\n",
        "\\end{equation}\n",
        "\n",
        "- $D_m$: training examples in node $m$\n",
        "- $n_{m}$ : total number of training examples in node $m$\n",
        "- $y_i$: target value of $i-$th example"
      ]
    },
    {
      "cell_type": "markdown",
      "metadata": {
        "id": "Qf53kFE1QtxX",
        "colab_type": "text"
      },
      "source": [
        "#### Additional References for Regression w CART Trees \n",
        "- [An Introduction to Recursive Partitioning: Rationale, Application and Characteristics of Classification and Regression Trees, Bagging and Random Forests](https://www.ncbi.nlm.nih.gov/pmc/articles/PMC2927982/)\n",
        "- [CART: Classification And Regression Trees for Machine Learning](https://machinelearningmastery.com/classification-and-regression-trees-for-machine-learning/)\n",
        "- [Popular Decision Tree: Classification and Regression Trees (C&RT)](http://www.statsoft.com/Textbook/Classification-and-Regression-Trees)\n",
        "- [Youtube: CART trees](https://www.youtube.com/watch?v=DCZ3tsQIoGU)"
      ]
    },
    {
      "cell_type": "code",
      "metadata": {
        "id": "w_OuN02EFcpZ",
        "colab_type": "code",
        "colab": {}
      },
      "source": [
        ""
      ],
      "execution_count": 0,
      "outputs": []
    },
    {
      "cell_type": "markdown",
      "metadata": {
        "id": "YSL__d3HU5Bf",
        "colab_type": "text"
      },
      "source": [
        "# Random Forests\n"
      ]
    },
    {
      "cell_type": "markdown",
      "metadata": {
        "id": "96q0DrpkBxG5",
        "colab_type": "text"
      },
      "source": [
        "### Benefits\n",
        "\n",
        "* **_Strong performance_**: The Random Forest algorithm usually has very strong performance on most problems, when compared with other classification algorithms. Because this is an ensemble algorithm, the model is naturally resistant to noise and variance in the data, and generally tends to perform quite well. \n",
        "\n",
        "* **_Interpretability_**:  Conveniently, since each tree in the Random Forest is a **_Glass-Box Model_** (meaning that the model is interpretable, allowing us to see how it arrived at a certain decision), the overall Random Forest is, as well! You'll demonstrate this yourself in the upcoming lab, by inspecting feature importances for both individual trees and the entire Random Forest itself. \n",
        "\n",
        "### Drawbacks\n",
        "\n",
        "* **_Computational Complexity_**: Like any ensemble method, training multiple models means paying the computational cost of training each model. On large datasets, the runtime can be quite slow compared to other algorithms.\n",
        "\n",
        "* **_Memory Usage_**: Another side effect of the ensembled nature of this algorithm, having multiple models means storing each in memory. Random Forests tend to have a larger memory footprint that other models. Whereas a parametric model like a Logistic Regression just needs to store each of the coefficients, a Random Forest has to remember every aspect of every tree! It's not uncommon to see larger Random Forests that were trained on large datasets have memory footprints in the 10s, or even hundreds of MB. For data scientists working on modern computers, this isn't typically a problem--however, there are special cases where the memory footprint can make this an untenable choice--for instance, an app on a smartphone that uses machine learning may not be able to afford to spend that much disk space on a Random Forest model!\n"
      ]
    }
  ]
}